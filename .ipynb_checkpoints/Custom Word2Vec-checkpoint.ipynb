{
 "cells": [
  {
   "cell_type": "markdown",
   "id": "0fc65e80",
   "metadata": {},
   "source": [
    "# Custom Word2Vec Models\n",
    "\n",
    "For Zhao et al.'s and Savani et al.'s debiasing methods, we created our own model and skip-gram traning loops below. "
   ]
  },
  {
   "cell_type": "code",
   "execution_count": null,
   "id": "31f958fd",
   "metadata": {},
   "outputs": [],
   "source": [
    "#imports\n",
    "import torch\n",
    "from torch import nn, optim, sigmoid, softmax\n",
    "from torch.utils.data import DataLoader\n",
    "from torchtext.data.utils import get_tokenizer"
   ]
  },
  {
   "cell_type": "markdown",
   "id": "66b0eb26",
   "metadata": {},
   "source": [
    "### Defining the model \n",
    "\n",
    "2 layers: embedding and linear \n",
    "\n",
    "- **max_norm=1:** prevents embedding layer to grow uncontrollably -regularization \n",
    "- **embedding_dim:** dimension of each embedding vector (eg.300)\n",
    "- **size_vocab:** size of vocabulary"
   ]
  },
  {
   "cell_type": "code",
   "execution_count": null,
   "id": "26ecb08a",
   "metadata": {},
   "outputs": [],
   "source": [
    "class Word_2_Vec(nn.Module):\n",
    "    \n",
    "    def __init__(self, size_vocab, embedding_dim):\n",
    "        super(Word_2_Vec, self).__init__()\n",
    "        self.network = nn.Sequential (\n",
    "            nn.Embedding(size_vocab,embedding_dim, max_norm=1),\n",
    "            nn.Linear(embedding_dim,size_vocab)\n",
    "        )\n",
    "\n",
    "    def forward(self, x):\n",
    "        return softmax(self.network(x))"
   ]
  },
  {
   "cell_type": "markdown",
   "id": "20e6ce4a",
   "metadata": {},
   "source": [
    "### Skip-gram Training \n",
    "\n",
    "(to be done in the future)"
   ]
  }
 ],
 "metadata": {
  "kernelspec": {
   "display_name": "Python 3 (ipykernel)",
   "language": "python",
   "name": "python3"
  },
  "language_info": {
   "codemirror_mode": {
    "name": "ipython",
    "version": 3
   },
   "file_extension": ".py",
   "mimetype": "text/x-python",
   "name": "python",
   "nbconvert_exporter": "python",
   "pygments_lexer": "ipython3",
   "version": "3.8.7"
  }
 },
 "nbformat": 4,
 "nbformat_minor": 5
}
