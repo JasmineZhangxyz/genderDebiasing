{
 "cells": [
  {
   "cell_type": "markdown",
   "metadata": {
    "id": "5XP3YOprVwyX"
   },
   "source": [
    "# Exploring Gender Biases in Word2Vec \n",
    "\n",
    "This notebook processes the data from the Gutenburg and Wikipedia datasets. Then, it trains the words agains Genism's word2Vec model, a custom skip-gram based word2vec model and our debiasing solutions. \n",
    "\n",
    "To measure biases that are hidden within these embeddings created by the models, we explore the direct bias, indirect bias, and the WEAT metric for comparision. "
   ]
  },
  {
   "cell_type": "code",
   "execution_count": 1,
   "metadata": {
    "colab": {
     "base_uri": "https://localhost:8080/"
    },
    "id": "h4LSSjBdfJhI",
    "outputId": "dfd47a58-6b57-4110-9160-f206ad21f54a"
   },
   "outputs": [
    {
     "name": "stderr",
     "output_type": "stream",
     "text": [
      "/Library/Frameworks/Python.framework/Versions/3.8/lib/python3.8/site-packages/tqdm/auto.py:22: TqdmWarning: IProgress not found. Please update jupyter and ipywidgets. See https://ipywidgets.readthedocs.io/en/stable/user_install.html\n",
      "  from .autonotebook import tqdm as notebook_tqdm\n"
     ]
    },
    {
     "name": "stdout",
     "output_type": "stream",
     "text": [
      "Using cpu device\n"
     ]
    }
   ],
   "source": [
    "#library imports\n",
    "import string\n",
    "import numpy as np\n",
    "from numpy.linalg import norm\n",
    "import json\n",
    "import tempfile\n",
    "from sklearn.decomposition import PCA\n",
    "import torch\n",
    "from torchtext.data.utils import get_tokenizer\n",
    "\n",
    "#configure paths\n",
    "import sys\n",
    "import os\n",
    "\n",
    "module_path = os.path.abspath(os.path.join('..'))\n",
    "if module_path not in sys.path:\n",
    "    sys.path.append(module_path+\"\\\\nn_webserver\")\n",
    "\n",
    "#gutenberg data import\n",
    "from gutenberg.gutenberg_data import get_urls, read_data_from_urls\n",
    "\n",
    "#models import\n",
    "from gensim.models import Word2Vec\n",
    "from custom_word2vec import Custom_Word2Vec\n",
    "import pickle\n",
    "\n",
    "#plots\n",
    "import matplotlib.pyplot as plt "
   ]
  },
  {
   "cell_type": "markdown",
   "metadata": {
    "id": "xhIMaI4vV8VI"
   },
   "source": [
    "## 1 - Data Preprocessing"
   ]
  },
  {
   "cell_type": "code",
   "execution_count": 2,
   "metadata": {
    "id": "RzDntNYcmVec"
   },
   "outputs": [],
   "source": [
    "def create_tokens(data):\n",
    "    \"\"\"\n",
    "    creates tokenized list with puncuation and digits removed and lowercase words \n",
    "\n",
    "    :param data: list of strings\n",
    "    :return: a list of tokens \n",
    "    \"\"\" \n",
    "    tokens = []\n",
    "    for sentance in data:\n",
    "        sentance = sentance.translate(str.maketrans('', '', string.punctuation)) #remove punctuations\n",
    "        sentance = sentance.translate(str.maketrans('', '', string.digits)) #remove digits\n",
    "        tokenizer = get_tokenizer(\"basic_english\", language=\"en\") #remove unessasary characters, splits into spaces\n",
    "        tokens.append(tokenizer(sentance))\n",
    "  \n",
    "    return tokens\n",
    "  "
   ]
  },
  {
   "cell_type": "markdown",
   "metadata": {
    "id": "tTskJcpBpDEt"
   },
   "source": [
    "**Gutenburg Dataset**"
   ]
  },
  {
   "cell_type": "code",
   "execution_count": 3,
   "metadata": {
    "colab": {
     "base_uri": "https://localhost:8080/"
    },
    "id": "zsTQM81GpDEu",
    "outputId": "12fedd03-76dd-4c73-f874-c921b02c98fc"
   },
   "outputs": [],
   "source": [
    "# Gutenburg\n",
    "train_urls = get_urls('train')\n",
    "train_data_g = read_data_from_urls(train_urls)\n",
    "train_data_g=str(train_data_g).split('.')\n",
    "\n",
    "rough_guten = create_tokens(train_data_g)\n",
    "\n",
    "sentences_gutenburg = []\n",
    "for sentence in rough_guten:\n",
    "    new_sentence = []\n",
    "    for word in sentence:\n",
    "        if 'rn' in word:\n",
    "            temp = word.replace('rn', ' ')\n",
    "            while temp and temp[0] == ' ':\n",
    "                temp = temp.replace(' ', '')\n",
    "            while temp and '  ' in temp:\n",
    "                temp = temp.replace('  ', '')\n",
    "            if ' ' in temp:\n",
    "                temp = temp.split(' ')\n",
    "                for word_thing in temp:\n",
    "                    new_sentence.append(word_thing)\n",
    "            else:\n",
    "                new_sentence.append(temp)\n",
    "        else:\n",
    "            new_sentence.append(word)\n",
    "    sentences_gutenburg.append(new_sentence)"
   ]
  },
  {
   "cell_type": "markdown",
   "metadata": {
    "id": "0PcqA9wapDEv"
   },
   "source": [
    "**Wikipedia Dataset**"
   ]
  },
  {
   "cell_type": "code",
   "execution_count": null,
   "metadata": {
    "id": "QdY5fDuEpDEw",
    "outputId": "5c3c79b9-63a1-4f27-a540-fa70fc990d8d"
   },
   "outputs": [
    {
     "name": "stdout",
     "output_type": "stream",
     "text": [
      "159\n"
     ]
    }
   ],
   "source": [
    "#Wikipedia\n",
    "f = open('wikipedia-en-1000.json')\n",
    "train_data_w = json.load(f)\n",
    "train_data_w =str(train_data_w[0]).split('.')\n",
    "\n",
    "sentences_wikipedia = create_tokens(train_data_w)\n",
    "print(len(sentences_wikipedia))"
   ]
  },
  {
   "cell_type": "markdown",
   "metadata": {
    "id": "kGQ-ic0KpDEw"
   },
   "source": [
    "## 2 - Genism Word2Vec"
   ]
  },
  {
   "cell_type": "markdown",
   "metadata": {
    "id": "vADvrY8rDeuq"
   },
   "source": [
    "Using: Skip-gram training algorithm. \n",
    "\n",
    "Hyperparameters:\n",
    "- min_freq: choosing the top N most frequent words - for easier training, weed out words that are irrelevant to us \n",
    "- size: embedding size. We use 300 as per Bolukbasi et al.\n",
    "- window: the window used for looking at context and center words when traing the embeddings "
   ]
  },
  {
   "cell_type": "code",
   "execution_count": 110,
   "metadata": {},
   "outputs": [],
   "source": [
    "#hyperparameters\n",
    "min_freq = 50\n",
    "size = 300\n",
    "window = 5\n",
    "epochs = 11"
   ]
  },
  {
   "cell_type": "markdown",
   "metadata": {},
   "source": [
    "**Gutenburg Genism Model**"
   ]
  },
  {
   "cell_type": "code",
   "execution_count": 111,
   "metadata": {
    "colab": {
     "base_uri": "https://localhost:8080/",
     "height": 258
    },
    "id": "cHtqmychpDEx",
    "outputId": "866140be-8705-4864-b7a7-7598b1f38101"
   },
   "outputs": [],
   "source": [
    "model_g = Word2Vec(min_count=min_freq, vector_size=size, window=window, sg=1) #sg=1 is the skip-gram training algorithm\n",
    "model_g.init_weights()\n",
    "model_g.build_vocab(sentences_gutenburg) \n",
    "model_g.train(sentences_gutenburg, total_examples=model_g.corpus_count, epochs=epochs)\n",
    "\n",
    "model_g.save(\"models/model_g\")\n"
   ]
  },
  {
   "cell_type": "markdown",
   "metadata": {},
   "source": [
    "**Wikipedia Genism Model**"
   ]
  },
  {
   "cell_type": "code",
   "execution_count": null,
   "metadata": {},
   "outputs": [],
   "source": [
    "model_w = Word2Vec(min_count=min_freq, vector_size=size, window=window, sg=1) #sg=1 is the skip-gram training algorithm\n",
    "model_w.init_weights()\n",
    "model_w.build_vocab(sentences_wikipedia) \n",
    "model_w.train(sentences_wikipedia, total_examples=model_g.corpus_count, epochs=epochs)\n",
    "\n",
    "model_w.save(\"models/model_w\")"
   ]
  },
  {
   "cell_type": "markdown",
   "metadata": {
    "id": "fYDVA5_wpDEy"
   },
   "source": [
    "Now, save the embeddings to use in debiasing. "
   ]
  },
  {
   "cell_type": "code",
   "execution_count": 112,
   "metadata": {
    "id": "e_XcKc4SpDEy"
   },
   "outputs": [],
   "source": [
    "with open('embeddings/gutenberg_embeddings.txt', 'w') as f:\n",
    "    for idx, key in enumerate(list(model_g.wv.index_to_key)):\n",
    "        embedding = ' '.join(str(v) for v in model_g.wv.get_vector(key))\n",
    "        f.write(key + \" \" + embedding+\"\\n\")"
   ]
  },
  {
   "cell_type": "code",
   "execution_count": null,
   "metadata": {
    "id": "J9hErZ1ApDEz"
   },
   "outputs": [],
   "source": [
    "with open('embeddings/wikipedia_embeddings.txt', 'w') as f:\n",
    "    for idx, key in enumerate(list(model_w.wv.index_to_key)):\n",
    "        embedding = ' '.join(str(v) for v in model_w.wv.get_vector(key))\n",
    "        f.write(key + \" \" + embedding+\"\\n\")"
   ]
  },
  {
   "cell_type": "markdown",
   "metadata": {
    "id": "9VzYjT6CqAJv"
   },
   "source": [
    "## 3 - Custom Word2Vec \n",
    "\n",
    "Using the same hyperparameters as Genism, train our own word2vec model (withought debiasing) on the data. "
   ]
  },
  {
   "cell_type": "code",
   "execution_count": 20,
   "metadata": {
    "colab": {
     "base_uri": "https://localhost:8080/",
     "height": 366
    },
    "id": "wNHWm-S7qSiD",
    "outputId": "765dcb4b-60da-479a-db8a-b72f7493fff0"
   },
   "outputs": [],
   "source": [
    "# hyperparameters\n",
    "embedding_dim=300\n",
    "LR=0.01\n",
    "window_size=2\n",
    "EPOCHS=2\n",
    "min_freq = 2000"
   ]
  },
  {
   "cell_type": "markdown",
   "metadata": {},
   "source": [
    "**Gutenburg Custom Model**"
   ]
  },
  {
   "cell_type": "code",
   "execution_count": 22,
   "metadata": {},
   "outputs": [
    {
     "name": "stdout",
     "output_type": "stream",
     "text": [
      "Generating Skip Grams...\n",
      "...(1.5466min)\n",
      "Training. Curr Time = 16:16:00 , Estimated Finish Time = 21:10:06\n",
      "Epoch: 1, Training Loss: 8491664.738260888  (100.6639min)\n",
      "Epoch: 2, Training Loss: 8381964.123699829  (105.3134min)\n"
     ]
    },
    {
     "data": {
      "image/png": "[encoded data removed]",
      "text/plain": [
       "<Figure size 432x288 with 1 Axes>"
      ]
     },
     "metadata": {
      "needs_background": "light"
     },
     "output_type": "display_data"
    },
    {
     "name": "stdout",
     "output_type": "stream",
     "text": [
      "...(205.9882min)\n"
     ]
    }
   ],
   "source": [
    "model_g_custom = Custom_Word2Vec(sentences_gutenburg, embedding_dim, LR, window_size, EPOCHS, min_freq)\n",
    "model_g_custom.train()\n",
    "\n"
   ]
  },
  {
   "cell_type": "code",
   "execution_count": 25,
   "metadata": {},
   "outputs": [],
   "source": [
    "with open('models/model_g_custom', 'wb') as files:\n",
    "    pickle.dump(model_g_custom, files)"
   ]
  },
  {
   "cell_type": "markdown",
   "metadata": {},
   "source": [
    "Now, save the embeddings to use in debiasing."
   ]
  },
  {
   "cell_type": "code",
   "execution_count": 27,
   "metadata": {},
   "outputs": [],
   "source": [
    "with open('embeddings/gutenburg_custom_embeddings.txt', 'w') as f:\n",
    "    for word in model_g_custom.corpus_vocab:\n",
    "        embedding_str = [str(x) for x in model_g_custom.embedding(word)]\n",
    "        embedding = ' '.join(embedding_str)\n",
    "        f.write(word + \" \" + embedding +\"\\n\")"
   ]
  },
  {
   "cell_type": "markdown",
   "metadata": {},
   "source": [
    "### 3.1 - Savani et. al Debiasing "
   ]
  },
  {
   "cell_type": "code",
   "execution_count": 2,
   "metadata": {},
   "outputs": [],
   "source": [
    "#load\n",
    "with open('models/model_g_custom' , 'rb') as f:\n",
    "    model_g_custom = pickle.load(f)"
   ]
  },
  {
   "cell_type": "code",
   "execution_count": 3,
   "metadata": {},
   "outputs": [
    {
     "name": "stdout",
     "output_type": "stream",
     "text": [
      "Estimated time to complete:  5.133333333333334 h\n",
      "finding best threshhold ...\n",
      "1/4 sampled. Best objective so far: -0.30556901934939235 for threshold: 0.5918367346938775 ...(73.9692min)\n",
      "finding best threshhold ...\n",
      "2/4 sampled. Best objective so far: -0.30556901934939235 for threshold: 0.5918367346938775 ...(73.3584min)\n",
      "finding best threshhold ...\n",
      "3/4 sampled. Best objective so far: -0.30556901934939235 for threshold: 0.5918367346938775 ...(73.8759min)\n",
      "finding best threshhold ...\n",
      "4/4 sampled. Best objective so far: -0.30556901934939235 for threshold: 0.5918367346938775 ...(74.4021min)\n",
      "Updating Model with best objective function results.\n"
     ]
    }
   ],
   "source": [
    "#bias variables\n",
    "model_g_custom.equalized_pairs = [[\"monastery\", \"convent\"], [\"spokesman\", \"spokeswoman\"], [\"Catholic_priest\", \"nun\"], [\"Dad\", \"Mom\"], [\"Men\", \"Women\"], [\"councilman\", \"councilwoman\"], [\"grandpa\", \"grandma\"], [\"grandsons\", \"granddaughters\"], [\"prostate_cancer\", \"ovarian_cancer\"], [\"testosterone\", \"estrogen\"], [\"uncle\", \"aunt\"], [\"wives\", \"husbands\"], [\"Father\", \"Mother\"], [\"Grandpa\", \"Grandma\"], [\"He\", \"She\"], [\"boy\", \"girl\"], [\"boys\", \"girls\"], [\"brother\", \"sister\"], [\"brothers\", \"sisters\"], [\"businessman\", \"businesswoman\"], [\"chairman\", \"chairwoman\"], [\"colt\", \"filly\"], [\"congressman\", \"congresswoman\"], [\"dad\", \"mom\"], [\"dads\", \"moms\"], [\"dudes\", \"gals\"], [\"ex_girlfriend\", \"ex_boyfriend\"], [\"father\", \"mother\"], [\"fatherhood\", \"motherhood\"], [\"fathers\", \"mothers\"], [\"fella\", \"granny\"], [\"fraternity\", \"sorority\"], [\"gelding\", \"mare\"], [\"gentleman\", \"lady\"], [\"gentlemen\", \"ladies\"], [\"grandfather\", \"grandmother\"], [\"grandson\", \"granddaughter\"], [\"he\", \"she\"], [\"himself\", \"herself\"], [\"his\", \"her\"], [\"king\", \"queen\"], [\"kings\", \"queens\"], [\"male\", \"female\"], [\"males\", \"females\"], [\"man\", \"woman\"], [\"men\", \"women\"], [\"nephew\", \"niece\"], [\"prince\", \"princess\"], [\"schoolboy\", \"schoolgirl\"], [\"son\", \"daughter\"], [\"sons\", \"daughters\"], [\"twin_brother\", \"twin_sister\"]]\n",
    "model_g_custom.gender_pairs = [['she','he'],['her','his'],['woman','man'],['Mary','John'],['herself','himself'],['daughter','son'],['mother','father'],['gal','guy'],['girl','boy'],['female','male']]\n",
    "\n",
    "#hyperparameters\n",
    "model_g_custom.pred_threshold=0.55\n",
    "model_g_custom.epsilon=0.05\n",
    "num_trails = 4\n",
    "stddev = 0.5 #0.1\n",
    "margin = 0.01\n",
    "num_threshs = 50\n",
    "\n",
    "#run debiasing \n",
    "model_g_custom.random_debiasing(num_trails, stddev, margin, num_threshs)\n",
    "\n",
    "#save \n",
    "with open('models/model_g_custom_debiased', 'wb') as files:\n",
    "    pickle.dump(model_g_custom, files)\n",
    "\n",
    "with open('embeddings/gutenburg_custom_debiased_embeddings.txt', 'w') as f:\n",
    "    for word in model_g_custom.corpus_vocab:\n",
    "        embedding_str = [str(x) for x in model_g_custom.embedding(word)]\n",
    "        embedding = ' '.join(embedding_str)\n",
    "        f.write(word + \" \" + embedding +\"\\n\")"
   ]
  },
  {
   "cell_type": "markdown",
   "metadata": {
    "id": "L9jws4VUXiuh"
   },
   "source": [
    "## 4 - Measuring Bias"
   ]
  },
  {
   "cell_type": "markdown",
   "metadata": {},
   "source": [
    "### 4.0 - Define Helper functions\n",
    "\n",
    "Define some useful helper functions to use in the measurement techniques"
   ]
  },
  {
   "cell_type": "code",
   "execution_count": 4,
   "metadata": {},
   "outputs": [],
   "source": [
    "def get_vocab(model, model_type, vocab):\n",
    "    '''\n",
    "    returns the vocabulary of the model\n",
    "    '''\n",
    "    if model_type == 'genism' or model_type == 'wiki':\n",
    "        return model.wv.key_to_index\n",
    "    elif model_type == 'custom':\n",
    "        return model.corpus_vocab.keys()\n",
    "    elif model_type == 'debias':\n",
    "        return vocab\n",
    "    else:\n",
    "        print(\"Model type is wrong\")\n",
    "        return []\n",
    "\n",
    "def check_w_embedding(word_lists, model, printRemoved, model_type, vocab={}):\n",
    "    '''\n",
    "    checks if the embedding exists for the given word, and if not deletes it from the lists. \n",
    "    if printRemoved = true, it also declares the words that were not in the model embeddings. \n",
    "    '''\n",
    "    new_w_lists = []\n",
    "    \n",
    "    for word_list in word_lists:\n",
    "        new_w_l = []\n",
    "        for w in word_list: \n",
    "            if w in get_vocab(model, model_type, vocab):\n",
    "                new_w_l.append(w)\n",
    "            else:\n",
    "                if printRemoved:\n",
    "                    print (\"Word\", w, \" is not in the model\")\n",
    "        \n",
    "        if (new_w_l):\n",
    "            new_w_lists.append(new_w_l)\n",
    "    \n",
    "    return new_w_lists\n",
    "\n",
    "def w_vec(word, model, model_type, vocab):\n",
    "    '''\n",
    "    returns the word embedding of the input word\n",
    "    '''\n",
    "    if model_type == 'genism' or model_type == 'wiki':\n",
    "        return model.wv[word]\n",
    "    elif model_type == 'custom':\n",
    "        return model.embedding(word)\n",
    "    elif model_type == 'debias':\n",
    "        return vocab[word]\n",
    "    else:\n",
    "        print(\"Model type is wrong\")\n",
    "        return []\n",
    "\n",
    "def cos_sim(a,b):\n",
    "    '''\n",
    "    returns the cosine similarity between 2 word embeddings \n",
    "    '''\n",
    "    return np.dot(a, b)/(norm(a)*norm(b))"
   ]
  },
  {
   "cell_type": "markdown",
   "metadata": {},
   "source": [
    "As well, for the debiased embeddings, we need a way to retrieve the dat from the embedding text file. Create a function to do so."
   ]
  },
  {
   "cell_type": "code",
   "execution_count": 5,
   "metadata": {},
   "outputs": [],
   "source": [
    "def read_debiased_embeddings(file):\n",
    "    vocab = {}\n",
    "    with open(file, 'r') as f:\n",
    "        for line in f:\n",
    "            key, embedding = line.split(' ', 1)#split by first space\n",
    "            emb_vec= list(map(float, embedding.split(' ')[:-1])) #convert embedding to int, remove new line  \n",
    "            vocab[key] = np.array(emb_vec)\n",
    "    return vocab "
   ]
  },
  {
   "cell_type": "markdown",
   "metadata": {
    "id": "EXVe1S3hpDEz"
   },
   "source": [
    "### 4.1 - Construct the g subspace\n",
    "First, define gendered words and pairs ground truth (taken from Bolukbasi et al.) Using PCA, define the gendered subspace g, by taking the most prominent dimension. "
   ]
  },
  {
   "cell_type": "code",
   "execution_count": 6,
   "metadata": {
    "id": "WGwiksMipDE0",
    "outputId": "ed4a1e49-169d-4e8a-d123-17f2774b239d"
   },
   "outputs": [],
   "source": [
    "def filter_gender_pairs(gender_pairs):\n",
    "    filtered_pairs=[]\n",
    "    for pair in gender_pairs:\n",
    "        if len(pair)==2:\n",
    "            filtered_pairs.append(pair)\n",
    "    return filtered_pairs\n",
    "\n",
    "def gender_subspace_matrix(model, gender_pairs, model_type, vocab):\n",
    "    '''\n",
    "    create matrix of the gender space using gender pairs\n",
    "        \n",
    "    '''\n",
    "    word_directions = []\n",
    "    for word_pair in gender_pairs:\n",
    "        if (len(word_pair) == 2):\n",
    "            f_word = w_vec(word_pair[0], model, model_type, vocab)\n",
    "            m_word = w_vec(word_pair[1], model, model_type, vocab)\n",
    "            dif = f_word-m_word\n",
    "            word_directions.append(dif)\n",
    "        \n",
    "        \n",
    "    return np.array(word_directions)\n",
    "\n",
    "\n",
    "def define_vector_g(model, model_type, gender_pairs, vocab={}):\n",
    "    word_directions = gender_subspace_matrix(model, gender_pairs, model_type, vocab) \n",
    "\n",
    "    #PCA of word direction\n",
    "    pca = PCA(n_components=len(gender_pairs))\n",
    "    pca.fit(word_directions)\n",
    "    \n",
    "    ratios = pca.explained_variance_ratio_\n",
    "    #print graph of PCA dimensions to determine how many dimensions should be kept\n",
    "    print(\"PCA variance ratio:\", ratios)\n",
    "    print(\"PCA singular values:\", pca.singular_values_)\n",
    "\n",
    "    #use the 1 most prominent dimension\n",
    "    pca = PCA(n_components=1)\n",
    "    pca.fit(word_directions)\n",
    "    g = pca.components_\n",
    "    \n",
    "    return g, ratios\n",
    "\n",
    "def run_gender_subspace_calcs(model, model_type, txtfiles, custom= False):\n",
    "    variance_ratios = []\n",
    "    i = 0\n",
    "    #genism model\n",
    "    if (model_type == 'genism' or model_type == 'custom'):\n",
    "        print (\"---------Original-------------\")\n",
    "        gender_pairs_new = filter_gender_pairs(check_w_embedding(gender_pairs, model, False, model_type))\n",
    "        print (\"Gender Pairs: \", gender_pairs_new)\n",
    "        g, pca_ratios = define_vector_g(model, model_type, gender_pairs_new)\n",
    "        variance_ratios.append(pca_ratios)\n",
    "    \n",
    "    #wiki model\n",
    "    if (model_type == 'wiki'):\n",
    "        print (\"---------Original-------------\")\n",
    "        vocab = read_debiased_embeddings(\"embeddings/wikipedia_embeddings.txt\")\n",
    "        gender_pairs_wiki = filter_gender_pairs(check_w_embedding(gender_pairs, model, False, 'debias', vocab))\n",
    "        print (\"Gender Pairs: \", gender_pairs_wiki)\n",
    "        g, pca_ratios_wiki = define_vector_g(model, 'debias', gender_pairs_wiki, vocab)\n",
    "        variance_ratios.append(pca_ratios_wiki)\n",
    "\n",
    "    #2016 debiasing \n",
    "    if (not custom):\n",
    "        print (\"---------2016debias-------------\")\n",
    "        vocab2016 = read_debiased_embeddings(txtfiles[i])\n",
    "        gender_pairs_2016 = filter_gender_pairs(check_w_embedding(gender_pairs, model, False, 'debias', vocab2016))\n",
    "        print (\"Gender Pairs: \", gender_pairs_2016)\n",
    "        g_2016, pca_ratios_2016 = define_vector_g(model, 'debias', gender_pairs_2016, vocab2016)\n",
    "        variance_ratios.append(pca_ratios_2016)\n",
    "        i+=1\n",
    "    \n",
    "    #2018 debiasing\n",
    "    print (\"---------2018debias-------------\")\n",
    "    vocab2018 = read_debiased_embeddings(txtfiles[i])\n",
    "    gender_pairs_2018 = filter_gender_pairs(check_w_embedding(gender_pairs, model, False, 'debias', vocab2018))\n",
    "    print (\"Gender Pairs: \", gender_pairs_2018)\n",
    "    g_2018, pca_ratios_2018 = define_vector_g(model, 'debias', gender_pairs_2018, vocab2018)\n",
    "    variance_ratios.append(pca_ratios_2018)\n",
    "    i+=1\n",
    "    \n",
    "    #2020 debiasing\n",
    "    if custom:\n",
    "        print (\"---------2020debias-------------\")\n",
    "        vocab2020 = read_debiased_embeddings(txtfiles[i])\n",
    "        gender_pairs_2020 = filter_gender_pairs(check_w_embedding(gender_pairs, model, False, 'debias', vocab2020))\n",
    "        print (\"Gender Pairs: \", gender_pairs_2020)\n",
    "        g_2020, pca_ratios_2020 = define_vector_g(model, 'debias', gender_pairs_2020, vocab2020)\n",
    "        variance_ratios.append(pca_ratios_2020)\n",
    "    \n",
    "    #combined graph:\n",
    "    colors = ['orange', 'red', 'blue']\n",
    "    if custom:\n",
    "        labels = ['Original', '2018 Debiasing', '2020 Debiasing']\n",
    "        plot_significance(variance_ratios, labels, colors, model_type, 0.05)\n",
    "        return g, g_2018, g_2020\n",
    "    else:\n",
    "        labels = ['Original', '2016 Debiasing', '2018 Debiasing']\n",
    "        plot_significance(variance_ratios, labels, colors, model_type, 0.3)\n",
    "\n",
    "        return g, g_2016, g_2018\n",
    "\n",
    "def plot_significance(variance_ratios, labels, colors, model, width):\n",
    "    for i in range(len(variance_ratios)):\n",
    "        ratio = variance_ratios[i]\n",
    "        r = np.arange(1, len(ratio)+1)\n",
    "        plt.bar(r + width*i, ratio, color=colors[i], edgecolor='white', width=width, alpha=0.5)\n",
    "        plt.xlabel(\"Matrix Variance Column\")\n",
    "        plt.ylabel(\"Variance\")\n",
    "    \n",
    "    \n",
    "    plt.title(\"Significance of each eigenvector for \"+model+\" models\") \n",
    "    plt.legend(labels)\n",
    "    plt.show()\n",
    "        \n",
    "\n",
    "#gender pairs\n",
    "gender_pairs = [['she','he'],['her','his'],['woman','man'],['Mary','John'],['herself','himself'],['daughter','son'],['mother','father'],['gal','guy'],['girl','boy'],['female','male']]"
   ]
  },
  {
   "cell_type": "markdown",
   "metadata": {},
   "source": [
    "**Gender Subspace for Gutenburg Models**"
   ]
  },
  {
   "cell_type": "code",
   "execution_count": 8,
   "metadata": {},
   "outputs": [
    {
     "name": "stdout",
     "output_type": "stream",
     "text": [
      "---------Original-------------\n",
      "Gender Pairs:  [['she', 'he'], ['her', 'his'], ['woman', 'man'], ['herself', 'himself'], ['daughter', 'son'], ['mother', 'father'], ['girl', 'boy'], ['female', 'male']]\n",
      "PCA variance ratio: [2.2873145e-01 2.1048002e-01 1.6368133e-01 1.5716054e-01 1.3005719e-01\n",
      " 7.5725868e-02 3.4163605e-02 6.6469462e-15]\n",
      "PCA singular values: [4.0653491e+00 3.8997819e+00 3.4390182e+00 3.3698196e+00 3.0655053e+00\n",
      " 2.3391445e+00 1.5711467e+00 6.9302035e-07]\n",
      "---------2016debias-------------\n",
      "Gender Pairs:  [['she', 'he'], ['her', 'his'], ['woman', 'man'], ['herself', 'himself'], ['daughter', 'son'], ['mother', 'father'], ['girl', 'boy'], ['female', 'male']]\n",
      "PCA variance ratio: [1.00000000e+00 1.43942143e-13 1.15199127e-13 9.53962115e-14\n",
      " 8.43057607e-14 7.05038773e-14 4.84020684e-14 1.05201890e-30]\n",
      "PCA singular values: [2.59396303e-01 9.84141992e-08 8.80416912e-08 8.01178610e-08\n",
      " 7.53168950e-08 6.88763751e-08 5.70684060e-08 2.66057529e-16]\n",
      "---------2018debias-------------\n",
      "Gender Pairs:  [['she', 'he'], ['her', 'his'], ['woman', 'man'], ['herself', 'himself'], ['daughter', 'son'], ['mother', 'father'], ['girl', 'boy'], ['female', 'male']]\n",
      "PCA variance ratio: [2.29464781e-01 2.09661802e-01 1.63762456e-01 1.57819423e-01\n",
      " 1.29500481e-01 7.55221293e-02 3.42689280e-02 1.40523133e-32]\n",
      "PCA singular values: [4.06334124e+00 3.88405109e+00 3.43267312e+00 3.36981068e+00\n",
      " 3.05253721e+00 2.33110797e+00 1.57027435e+00 1.00553962e-15]\n"
     ]
    },
    {
     "data": {
      "image/png": "[encoded data removed]",
      "text/plain": [
       "<Figure size 432x288 with 1 Axes>"
      ]
     },
     "metadata": {
      "needs_background": "light"
     },
     "output_type": "display_data"
    }
   ],
   "source": [
    "#load model\n",
    "model_g = Word2Vec.load(\"models/model_g\")\n",
    "\n",
    "#calculate g subspace\n",
    "g_gutenburg, g_gutenburg_2016, g_gutenburg_2018 = run_gender_subspace_calcs(model_g, \"genism\", [\"2016debias/2016debias_gutenberg_emb.txt\", \"2018debias/2018debias_gutenberg_emb.txt\"])"
   ]
  },
  {
   "cell_type": "markdown",
   "metadata": {},
   "source": [
    "**Gender Subspace for Wikipedia Models**"
   ]
  },
  {
   "cell_type": "code",
   "execution_count": 9,
   "metadata": {},
   "outputs": [
    {
     "name": "stdout",
     "output_type": "stream",
     "text": [
      "---------Original-------------\n",
      "Gender Pairs:  [['she', 'he'], ['her', 'his'], ['woman', 'man'], ['herself', 'himself'], ['daughter', 'son'], ['mother', 'father'], ['gal', 'guy'], ['girl', 'boy'], ['female', 'male']]\n",
      "PCA variance ratio: [4.69855152e-01 2.05261717e-01 9.92370393e-02 7.70452044e-02\n",
      " 7.30826804e-02 3.46785969e-02 3.17338090e-02 9.10580083e-03\n",
      " 8.58932749e-33]\n",
      "PCA singular values: [4.42402561e+00 2.92408246e+00 2.03316458e+00 1.79146547e+00\n",
      " 1.74478882e+00 1.20189463e+00 1.14973231e+00 6.15878026e-01\n",
      " 5.98157038e-16]\n",
      "---------2016debias-------------\n",
      "Gender Pairs:  [['she', 'he'], ['her', 'his'], ['woman', 'man'], ['herself', 'himself'], ['daughter', 'son'], ['mother', 'father'], ['gal', 'guy'], ['girl', 'boy'], ['female', 'male']]\n",
      "PCA variance ratio: [9.38413057e-01 6.15869430e-02 6.30960885e-15 3.05790866e-15\n",
      " 2.70274064e-15 2.53520595e-15 2.09857069e-15 1.88229480e-15\n",
      " 4.09255393e-32]\n",
      "PCA singular values: [1.14774681e+00 2.94031186e-01 9.41131459e-08 6.55181048e-08\n",
      " 6.15958224e-08 5.96562150e-08 5.42763799e-08 5.14035240e-08\n",
      " 2.39687992e-16]\n",
      "---------2018debias-------------\n",
      "Gender Pairs:  [['she', 'he'], ['her', 'his'], ['woman', 'man'], ['herself', 'himself'], ['daughter', 'son'], ['mother', 'father'], ['gal', 'guy'], ['girl', 'boy'], ['female', 'male']]\n",
      "PCA variance ratio: [4.72228156e-01 2.05123155e-01 9.87546979e-02 7.67193925e-02\n",
      " 7.22885778e-02 3.45429825e-02 3.13888938e-02 8.95414419e-03\n",
      " 1.22786742e-32]\n",
      "PCA singular values: [4.44361099e+00 2.92864976e+00 2.03207146e+00 1.79107046e+00\n",
      " 1.73858102e+00 1.20182161e+00 1.14563982e+00 6.11888281e-01\n",
      " 7.16532398e-16]\n"
     ]
    },
    {
     "data": {
      "image/png": "[encoded data removed]",
      "text/plain": [
       "<Figure size 432x288 with 1 Axes>"
      ]
     },
     "metadata": {
      "needs_background": "light"
     },
     "output_type": "display_data"
    }
   ],
   "source": [
    "#calculate g subspace\n",
    "g_wiki, g_wiki_2016, g_wiki_2018 = run_gender_subspace_calcs(model_g, \"wiki\", [\"2016debias/2016debias_wiki_emb.txt\", \"2018debias/2018debias_wiki_emb.txt\"])"
   ]
  },
  {
   "cell_type": "markdown",
   "metadata": {},
   "source": [
    "**Gender Subspace for Gutenburg Custom Word2vec Models**"
   ]
  },
  {
   "cell_type": "code",
   "execution_count": 7,
   "metadata": {},
   "outputs": [],
   "source": [
    "with open('models/model_g_custom' , 'rb') as f:\n",
    "    model_g_custom = pickle.load(f)"
   ]
  },
  {
   "cell_type": "code",
   "execution_count": 14,
   "metadata": {},
   "outputs": [
    {
     "name": "stdout",
     "output_type": "stream",
     "text": [
      "---------Original-------------\n",
      "Gender Pairs:  [['she', 'he'], ['her', 'his']]\n",
      "PCA variance ratio: [1.0000000e+00 2.7546131e-14]\n",
      "PCA singular values: [2.5387967e-01 4.2136477e-08]\n",
      "---------2018debias-------------\n",
      "Gender Pairs:  [['she', 'he'], ['her', 'his']]\n",
      "PCA variance ratio: [1.00000000e+00 5.32367293e-32]\n",
      "PCA singular values: [2.66063398e-01 6.13890364e-17]\n",
      "---------2020debias-------------\n",
      "Gender Pairs:  [['she', 'he'], ['her', 'his']]\n",
      "PCA variance ratio: [1.00000000e+00 5.01568289e-32]\n",
      "PCA singular values: [6.04471203e-01 1.35375680e-16]\n"
     ]
    },
    {
     "data": {
      "image/png": "[encoded data removed]",
      "text/plain": [
       "<Figure size 432x288 with 1 Axes>"
      ]
     },
     "metadata": {
      "needs_background": "light"
     },
     "output_type": "display_data"
    }
   ],
   "source": [
    "g_gutenburg_custom, g_gutenburg_2018_custom, g_gutenburg_2020_custom = run_gender_subspace_calcs(model_g_custom, \"custom\", [\"2018debias/2018debias_gutenberg_emb_custom.txt\", \"embeddings/gutenburg_custom_debiased_embeddings.txt\"], True)"
   ]
  },
  {
   "cell_type": "markdown",
   "metadata": {
    "id": "7ylrwq0MXxYN"
   },
   "source": [
    "### 4.2 - Direct Bias\n",
    "\n",
    "To measure direct bias, we will be using the equation from Bolukbasi et al. shown below. "
   ]
  },
  {
   "cell_type": "markdown",
   "metadata": {
    "id": "cI6_1ww2pDE1"
   },
   "source": [
    "<img src=\"img/Direct_Bias.png\" style=\"width:300px;float:left;\"/>"
   ]
  },
  {
   "cell_type": "markdown",
   "metadata": {
    "id": "oBrC38VkpDE1"
   },
   "source": [
    "We will use the same gender neutral words that have been collected from the paper which is \n",
    "denoted by N. As well, we will utilize the paper’s gender directions (vector from one word to another) \n",
    "which were verified by crowdsourcing. The gender subspace g will be the unit vector g that captures the\n",
    "gender directions, computed by principal components in the paper. Finally, we will consider c, which is the \n",
    "strictness of bias, as a hyperparameter in our experiment. "
   ]
  },
  {
   "cell_type": "code",
   "execution_count": 9,
   "metadata": {
    "id": "qc-4WChgpDE1",
    "outputId": "cced117f-befb-4e48-d27c-542cd3e53a09"
   },
   "outputs": [],
   "source": [
    "def calculate_direct_metric(gendered_word_set, model, c, g, model_type, vocab={}):\n",
    "    '''\n",
    "    calculate the direct bias using Bolukbasi et al.'s equation\n",
    "    '''\n",
    "    cosine_add = 0\n",
    "    for word in gendered_word_set:\n",
    "        cosine_add += np.abs(cos_sim(w_vec(word, model, model_type, vocab),g[0]))**c\n",
    "    \n",
    "    return cosine_add/len(gendered_word_set)\n",
    "    \n",
    "\n",
    "c = 1 #hyperparameter\n",
    "\n",
    "gendered_words = 'engineer, professor, intelligent, teacher, police, nurture, captain, writer, poet, scientist, lawyer, receptionist, nurture, firefighter, doctor, nurse, manager, business, leader, follower, work, read, actress, home, sport, soccer, basketball, baseball, hockey, coach'\n",
    "gendered_words = gendered_words.split(\", \")"
   ]
  },
  {
   "cell_type": "markdown",
   "metadata": {},
   "source": [
    "**Direct Metric for Gutenburg Models**"
   ]
  },
  {
   "cell_type": "code",
   "execution_count": 16,
   "metadata": {},
   "outputs": [
    {
     "name": "stdout",
     "output_type": "stream",
     "text": [
      "Direct metric gutenburg: 0.05162829257460544\n",
      "Direct metric gutenburg 2016 debias: 3.562400578130557e-08\n",
      "Direct metric gutenburg 2018 debias: 0.05132398197252487\n"
     ]
    }
   ],
   "source": [
    "#load models\n",
    "model_g = Word2Vec.load(\"models/model_g\")\n",
    "\n",
    "#genism\n",
    "gendered_word_set = check_w_embedding([gendered_words], model_g, False, 'genism')[0]\n",
    "print(\"Direct metric gutenburg:\", calculate_direct_metric(gendered_word_set, model_g, c, g_gutenburg, 'genism'))\n",
    "\n",
    "#2016 debiasing \n",
    "vocab2016 = read_debiased_embeddings('2016debias/2016debias_gutenberg_emb.txt')\n",
    "gendered_word_set_2016 = check_w_embedding([gendered_words], model_g, False, 'debias', vocab2016)[0]\n",
    "print(\"Direct metric gutenburg 2016 debias:\", calculate_direct_metric(gendered_word_set_2016, model_g, c, g_gutenburg_2016, 'debias', vocab2016))\n",
    "\n",
    "#2018 debiasing\n",
    "vocab2018 = read_debiased_embeddings('2018debias/2018debias_gutenberg_emb.txt')\n",
    "gendered_word_set_2018 = check_w_embedding([gendered_words], model_g, False, 'debias', vocab2018)[0]\n",
    "print(\"Direct metric gutenburg 2018 debias:\", calculate_direct_metric(gendered_word_set_2018, model_g, c, g_gutenburg_2018, 'debias', vocab2018))\n"
   ]
  },
  {
   "cell_type": "markdown",
   "metadata": {},
   "source": [
    "**Direct Metric for Wikipedia Models**"
   ]
  },
  {
   "cell_type": "code",
   "execution_count": 21,
   "metadata": {},
   "outputs": [
    {
     "name": "stdout",
     "output_type": "stream",
     "text": [
      "Direct metric wiki: 0.06087632697703697\n",
      "Direct metric wiki 2016 debias: 0.07916512143350311\n",
      "Direct metric wiki 2018 debias: 0.060161984061677866\n"
     ]
    }
   ],
   "source": [
    "#wiki\n",
    "vocab = read_debiased_embeddings(\"embeddings/wikipedia_embeddings.txt\")\n",
    "gendered_word_set = check_w_embedding([gendered_words], model_g, False, 'debias', vocab)[0]\n",
    "print(\"Direct metric wiki:\", calculate_direct_metric(gendered_word_set, model_g, c, g_wiki, 'debias', vocab))\n",
    "\n",
    "#2016 debiasing \n",
    "vocab2016 = read_debiased_embeddings('2016debias/2016debias_wiki_emb.txt')\n",
    "gendered_word_set_2016 = check_w_embedding([gendered_words], model_g, False, 'debias', vocab2016)[0]\n",
    "print(\"Direct metric wiki 2016 debias:\", calculate_direct_metric(gendered_word_set_2016, model_g, c, g_wiki_2016, 'debias', vocab2016))\n",
    "\n",
    "#2018 debiasing\n",
    "vocab2018 = read_debiased_embeddings('2018debias/2018debias_wiki_emb.txt')\n",
    "gendered_word_set_2018 = check_w_embedding([gendered_words], model_g, False, 'debias', vocab2018)[0]\n",
    "print(\"Direct metric wiki 2018 debias:\", calculate_direct_metric(gendered_word_set_2018, model_g, c, g_wiki_2018, 'debias', vocab2018))"
   ]
  },
  {
   "cell_type": "markdown",
   "metadata": {},
   "source": [
    "**Direct Metric for Gutenburg Custom Word2vec Models**"
   ]
  },
  {
   "cell_type": "code",
   "execution_count": 12,
   "metadata": {},
   "outputs": [],
   "source": [
    "#load models\n",
    "with open('models/model_g_custom' , 'rb') as f:\n",
    "    model_g_custom = pickle.load(f)"
   ]
  },
  {
   "cell_type": "code",
   "execution_count": 15,
   "metadata": {},
   "outputs": [
    {
     "name": "stdout",
     "output_type": "stream",
     "text": [
      "Direct metric gutenburg: 0.19221440580995044\n",
      "Direct metric gutenburg 2018 debias: 0.32718988855668013\n",
      "Direct metric gutenburg 2020 debias: 0.3601605396326931\n"
     ]
    }
   ],
   "source": [
    "#create new word set that the model includes\n",
    "gendered_words = 'earth, get, place, heart, night, nothing, heard, thought, give, people, life, old, children, face, first, land, make, things, time, love, great'\n",
    "gendered_words = gendered_words.split(\", \")\n",
    "\n",
    "#original\n",
    "gendered_word_set = check_w_embedding([gendered_words], model_g_custom, False, 'custom')[0]\n",
    "print(\"Direct metric gutenburg:\", calculate_direct_metric(gendered_word_set, model_g_custom, c, g_gutenburg_custom, 'custom'))\n",
    "\n",
    "#2018 debiasing\n",
    "vocab2018 = read_debiased_embeddings('2018debias/2018debias_gutenberg_emb_custom.txt')\n",
    "gendered_word_set_2018 = check_w_embedding([gendered_words], model_g_custom, False, 'debias', vocab2018)[0]\n",
    "print(\"Direct metric gutenburg 2018 debias:\", calculate_direct_metric(gendered_word_set_2018, model_g_custom, c, g_gutenburg_2018_custom, 'debias', vocab2018))\n",
    "\n",
    "#2020 debiasing\n",
    "vocab2020 = read_debiased_embeddings('embeddings/gutenburg_custom_debiased_embeddings.txt')\n",
    "gendered_word_set_2020 = check_w_embedding([gendered_words], model_g_custom, False, 'debias', vocab2020)[0]\n",
    "print(\"Direct metric gutenburg 2020 debias:\", calculate_direct_metric(gendered_word_set_2020, model_g_custom, c, g_gutenburg_2020_custom, 'debias', vocab2020))\n"
   ]
  },
  {
   "cell_type": "markdown",
   "metadata": {
    "id": "gMIUMyqsX57J"
   },
   "source": [
    "### 4.3 - Indirect Bias\n",
    "\n",
    "To measure indirect bias, we will be using the equation from Bolukbasi et al. shown below."
   ]
  },
  {
   "cell_type": "markdown",
   "metadata": {
    "id": "KrOSjUQspDE2"
   },
   "source": [
    "<img src=\"img/Indirect_Bias.png\" style=\"width:300px;float:left;\"/>"
   ]
  },
  {
   "cell_type": "markdown",
   "metadata": {
    "id": "6krHTKxepDE2"
   },
   "source": [
    "$w_{\\perp}$ is defined as $w_{\\perp} = w - w_{g}$ where $w_{g}=(w*g)*g$ as mentioned in the paper. We will be using the g subspace calculated above. As for the word pairs, we will run a few experiments. The first will be the most extreme words in the softball-football direction as mentioned in the paper. "
   ]
  },
  {
   "cell_type": "code",
   "execution_count": 16,
   "metadata": {
    "id": "kGyyr-NqpDE2",
    "outputId": "48e36e83-23b3-492e-9a74-eeac5e2bbe8c"
   },
   "outputs": [],
   "source": [
    "def calculate_indirect_metric(g, w, v):\n",
    "    wg = np.dot(np.dot(w,g[0]),g[0])\n",
    "    vg = np.dot(np.dot(v,g[0]),g[0])\n",
    "    w_norm_vec = w-wg\n",
    "    v_norm_vec = v-vg\n",
    "    w_norm = norm(w_norm_vec)\n",
    "    v_norm = norm(v_norm_vec)\n",
    "    \n",
    "    return (np.dot(w,v) - np.dot(w_norm_vec,v_norm_vec)/(w_norm*v_norm))/np.dot(w,v)\n",
    "\n",
    "def compare_indirect_metrics(words, c_word, model,g, model_type, vocab={}):\n",
    "    metrics=[]\n",
    "    for w in words:\n",
    "        metrics.append(calculate_indirect_metric(g, w_vec(c_word,model, model_type, vocab), w_vec(w,model, model_type, vocab)))\n",
    "    \n",
    "    return metrics\n",
    "\n",
    "def plot_indirect_metric(words, w, m, model, g_values, model_type, labels, txtfiles, colors):\n",
    "    fig, ax = plt.subplots(1,1) \n",
    "    \n",
    "    idx=0\n",
    "    for i in range(len(labels)):\n",
    "        b_vals_w = []\n",
    "        b_vals_m = []\n",
    "\n",
    "        #calculate indirect beta values\n",
    "        if labels[i] == \"Original\": #first iteration model\n",
    "            b_vals_w = compare_indirect_metrics(words, w, model, g_values[i], model_type)\n",
    "            b_vals_m = compare_indirect_metrics(words, m, model, g_values[i], model_type)\n",
    "        else:\n",
    "            vocab = read_debiased_embeddings(txtfiles[idx])\n",
    "            b_vals_w = compare_indirect_metrics(words, w, model, g_values[i], \"debias\", vocab)\n",
    "            b_vals_m = compare_indirect_metrics(words, m, model, g_values[i], \"debias\", vocab)\n",
    "            idx+=1\n",
    "            \n",
    "        print(\"b_vals_w:\", b_vals_w)\n",
    "        print(\"b_vals_m:\", b_vals_m)\n",
    "        #plot\n",
    "        ax.plot(range(1, len(words)+1), b_vals_w, marker='o', color = colors[i], alpha=0.8)\n",
    "        ax.plot(range(1, len(words)+1), b_vals_m, '--', marker='o', color = colors[i], alpha=0.8)\n",
    "        \n",
    "\n",
    "    ax.set_xticks(range(1, len(words_w)+1))\n",
    "    ax.set_xticklabels(words, rotation='horizontal', fontsize=10)\n",
    "    plt.ylabel('β values')\n",
    "    plt.xlabel('non-related words')\n",
    "    plt.title('Indirect metrics for '+ model_type+ \" models\")\n",
    "    \n",
    "    legend_labels =[]\n",
    "    for l in labels:\n",
    "        legend_labels.append(w + \" - \"+ l)\n",
    "        legend_labels.append(m + \" - \"+ l)\n",
    "        \n",
    "    ax.legend(legend_labels, bbox_to_anchor=(1.04,1))\n",
    "    plt.show()\n",
    "    \n",
    "#Experiment- recreate Bolukbasi et al.'s experiement but with words available in the datasetss\n",
    "words_w= ['beauty', 'fashion', 'marriage', 'charm', 'nurse'] \n",
    "w = 'clean' \n",
    "words_m = ['paper', 'money', 'office', 'police', 'strength'] \n",
    "m = 'build'"
   ]
  },
  {
   "cell_type": "markdown",
   "metadata": {},
   "source": [
    "**Indirect Metric for Gutenburg Models**"
   ]
  },
  {
   "cell_type": "code",
   "execution_count": 39,
   "metadata": {},
   "outputs": [
    {
     "name": "stdout",
     "output_type": "stream",
     "text": [
      "0\n",
      "b_vals_w: [0.95366323, 0.92422444, 0.9415778, 0.9205797, 1.3884088]\n",
      "b_vals_m: [0.9389032, 0.92986566, 0.939495, 0.9270366, 0.93395746]\n",
      "1\n"
     ]
    },
    {
     "ename": "ValueError",
     "evalue": "shapes (299,) and (300,) not aligned: 299 (dim 0) != 300 (dim 0)",
     "output_type": "error",
     "traceback": [
      "\u001b[0;31m---------------------------------------------------------------------------\u001b[0m",
      "\u001b[0;31mValueError\u001b[0m                                Traceback (most recent call last)",
      "\u001b[0;32m/var/folders/yd/1xm7_bqn669bxvprqw9zpnxc0000gn/T/ipykernel_44791/3017547312.py\u001b[0m in \u001b[0;36m<module>\u001b[0;34m\u001b[0m\n\u001b[1;32m      6\u001b[0m \u001b[0;34m\u001b[0m\u001b[0m\n\u001b[1;32m      7\u001b[0m \u001b[0;31m#female correlated words\u001b[0m\u001b[0;34m\u001b[0m\u001b[0;34m\u001b[0m\u001b[0;34m\u001b[0m\u001b[0m\n\u001b[0;32m----> 8\u001b[0;31m \u001b[0mplot_indirect_metric\u001b[0m\u001b[0;34m(\u001b[0m\u001b[0mwords_w\u001b[0m\u001b[0;34m,\u001b[0m \u001b[0mw\u001b[0m\u001b[0;34m,\u001b[0m \u001b[0mm\u001b[0m\u001b[0;34m,\u001b[0m \u001b[0mmodel_g\u001b[0m\u001b[0;34m,\u001b[0m \u001b[0;34m[\u001b[0m\u001b[0mg_gutenburg\u001b[0m\u001b[0;34m,\u001b[0m \u001b[0mg_gutenburg_2016\u001b[0m\u001b[0;34m,\u001b[0m \u001b[0mg_gutenburg_2018\u001b[0m\u001b[0;34m]\u001b[0m\u001b[0;34m,\u001b[0m \u001b[0;34m'genism'\u001b[0m\u001b[0;34m,\u001b[0m \u001b[0;34m[\u001b[0m\u001b[0;34m'Original'\u001b[0m\u001b[0;34m,\u001b[0m \u001b[0;34m'2016 Debiasing'\u001b[0m\u001b[0;34m,\u001b[0m\u001b[0;34m'2018 Debiasing'\u001b[0m\u001b[0;34m]\u001b[0m\u001b[0;34m,\u001b[0m \u001b[0;34m[\u001b[0m\u001b[0;34m\"2016debias/2016debias_gutenberg_emb.txt\"\u001b[0m\u001b[0;34m,\u001b[0m \u001b[0;34m\"2018debias/2018debias_gutenberg_emb.txt\"\u001b[0m\u001b[0;34m]\u001b[0m\u001b[0;34m,\u001b[0m \u001b[0;34m[\u001b[0m\u001b[0;34m\"Black\"\u001b[0m\u001b[0;34m,\u001b[0m \u001b[0;34m\"Red\"\u001b[0m\u001b[0;34m,\u001b[0m \u001b[0;34m\"Orange\"\u001b[0m\u001b[0;34m]\u001b[0m\u001b[0;34m)\u001b[0m\u001b[0;34m\u001b[0m\u001b[0;34m\u001b[0m\u001b[0m\n\u001b[0m\u001b[1;32m      9\u001b[0m \u001b[0;34m\u001b[0m\u001b[0m\n\u001b[1;32m     10\u001b[0m \u001b[0;31m#male correlated words\u001b[0m\u001b[0;34m\u001b[0m\u001b[0;34m\u001b[0m\u001b[0;34m\u001b[0m\u001b[0m\n",
      "\u001b[0;32m/var/folders/yd/1xm7_bqn669bxvprqw9zpnxc0000gn/T/ipykernel_44791/3479324563.py\u001b[0m in \u001b[0;36mplot_indirect_metric\u001b[0;34m(words, w, m, model, g_values, model_type, labels, txtfiles, colors)\u001b[0m\n\u001b[1;32m     30\u001b[0m         \u001b[0;32melse\u001b[0m\u001b[0;34m:\u001b[0m\u001b[0;34m\u001b[0m\u001b[0;34m\u001b[0m\u001b[0m\n\u001b[1;32m     31\u001b[0m             \u001b[0mvocab\u001b[0m \u001b[0;34m=\u001b[0m \u001b[0mread_debiased_embeddings\u001b[0m\u001b[0;34m(\u001b[0m\u001b[0mtxtfiles\u001b[0m\u001b[0;34m[\u001b[0m\u001b[0midx\u001b[0m\u001b[0;34m]\u001b[0m\u001b[0;34m)\u001b[0m\u001b[0;34m\u001b[0m\u001b[0;34m\u001b[0m\u001b[0m\n\u001b[0;32m---> 32\u001b[0;31m             \u001b[0mb_vals_w\u001b[0m \u001b[0;34m=\u001b[0m \u001b[0mcompare_indirect_metrics\u001b[0m\u001b[0;34m(\u001b[0m\u001b[0mwords\u001b[0m\u001b[0;34m,\u001b[0m \u001b[0mw\u001b[0m\u001b[0;34m,\u001b[0m \u001b[0mmodel\u001b[0m\u001b[0;34m,\u001b[0m \u001b[0mg_values\u001b[0m\u001b[0;34m[\u001b[0m\u001b[0mi\u001b[0m\u001b[0;34m]\u001b[0m\u001b[0;34m,\u001b[0m \u001b[0;34m\"debias\"\u001b[0m\u001b[0;34m,\u001b[0m \u001b[0mvocab\u001b[0m\u001b[0;34m)\u001b[0m\u001b[0;34m\u001b[0m\u001b[0;34m\u001b[0m\u001b[0m\n\u001b[0m\u001b[1;32m     33\u001b[0m             \u001b[0mb_vals_m\u001b[0m \u001b[0;34m=\u001b[0m \u001b[0mcompare_indirect_metrics\u001b[0m\u001b[0;34m(\u001b[0m\u001b[0mwords\u001b[0m\u001b[0;34m,\u001b[0m \u001b[0mm\u001b[0m\u001b[0;34m,\u001b[0m \u001b[0mmodel\u001b[0m\u001b[0;34m,\u001b[0m \u001b[0mg_values\u001b[0m\u001b[0;34m[\u001b[0m\u001b[0mi\u001b[0m\u001b[0;34m]\u001b[0m\u001b[0;34m,\u001b[0m \u001b[0;34m\"debias\"\u001b[0m\u001b[0;34m,\u001b[0m \u001b[0mvocab\u001b[0m\u001b[0;34m)\u001b[0m\u001b[0;34m\u001b[0m\u001b[0;34m\u001b[0m\u001b[0m\n\u001b[1;32m     34\u001b[0m         \u001b[0midx\u001b[0m\u001b[0;34m+=\u001b[0m\u001b[0;36m1\u001b[0m\u001b[0;34m\u001b[0m\u001b[0;34m\u001b[0m\u001b[0m\n",
      "\u001b[0;32m/var/folders/yd/1xm7_bqn669bxvprqw9zpnxc0000gn/T/ipykernel_44791/3479324563.py\u001b[0m in \u001b[0;36mcompare_indirect_metrics\u001b[0;34m(words, c_word, model, g, model_type, vocab)\u001b[0m\n\u001b[1;32m     12\u001b[0m     \u001b[0mmetrics\u001b[0m\u001b[0;34m=\u001b[0m\u001b[0;34m[\u001b[0m\u001b[0;34m]\u001b[0m\u001b[0;34m\u001b[0m\u001b[0;34m\u001b[0m\u001b[0m\n\u001b[1;32m     13\u001b[0m     \u001b[0;32mfor\u001b[0m \u001b[0mw\u001b[0m \u001b[0;32min\u001b[0m \u001b[0mwords\u001b[0m\u001b[0;34m:\u001b[0m\u001b[0;34m\u001b[0m\u001b[0;34m\u001b[0m\u001b[0m\n\u001b[0;32m---> 14\u001b[0;31m         \u001b[0mmetrics\u001b[0m\u001b[0;34m.\u001b[0m\u001b[0mappend\u001b[0m\u001b[0;34m(\u001b[0m\u001b[0mcalculate_indirect_metric\u001b[0m\u001b[0;34m(\u001b[0m\u001b[0mg\u001b[0m\u001b[0;34m,\u001b[0m \u001b[0mw_vec\u001b[0m\u001b[0;34m(\u001b[0m\u001b[0mc_word\u001b[0m\u001b[0;34m,\u001b[0m\u001b[0mmodel\u001b[0m\u001b[0;34m,\u001b[0m \u001b[0mmodel_type\u001b[0m\u001b[0;34m,\u001b[0m \u001b[0mvocab\u001b[0m\u001b[0;34m)\u001b[0m\u001b[0;34m,\u001b[0m \u001b[0mw_vec\u001b[0m\u001b[0;34m(\u001b[0m\u001b[0mw\u001b[0m\u001b[0;34m,\u001b[0m\u001b[0mmodel\u001b[0m\u001b[0;34m,\u001b[0m \u001b[0mmodel_type\u001b[0m\u001b[0;34m,\u001b[0m \u001b[0mvocab\u001b[0m\u001b[0;34m)\u001b[0m\u001b[0;34m)\u001b[0m\u001b[0;34m)\u001b[0m\u001b[0;34m\u001b[0m\u001b[0;34m\u001b[0m\u001b[0m\n\u001b[0m\u001b[1;32m     15\u001b[0m \u001b[0;34m\u001b[0m\u001b[0m\n\u001b[1;32m     16\u001b[0m     \u001b[0;32mreturn\u001b[0m \u001b[0mmetrics\u001b[0m\u001b[0;34m\u001b[0m\u001b[0;34m\u001b[0m\u001b[0m\n",
      "\u001b[0;32m/var/folders/yd/1xm7_bqn669bxvprqw9zpnxc0000gn/T/ipykernel_44791/3479324563.py\u001b[0m in \u001b[0;36mcalculate_indirect_metric\u001b[0;34m(g, w, v)\u001b[0m\n\u001b[1;32m      1\u001b[0m \u001b[0;32mdef\u001b[0m \u001b[0mcalculate_indirect_metric\u001b[0m\u001b[0;34m(\u001b[0m\u001b[0mg\u001b[0m\u001b[0;34m,\u001b[0m \u001b[0mw\u001b[0m\u001b[0;34m,\u001b[0m \u001b[0mv\u001b[0m\u001b[0;34m)\u001b[0m\u001b[0;34m:\u001b[0m\u001b[0;34m\u001b[0m\u001b[0;34m\u001b[0m\u001b[0m\n\u001b[0;32m----> 2\u001b[0;31m     \u001b[0mwg\u001b[0m \u001b[0;34m=\u001b[0m \u001b[0mnp\u001b[0m\u001b[0;34m.\u001b[0m\u001b[0mdot\u001b[0m\u001b[0;34m(\u001b[0m\u001b[0mnp\u001b[0m\u001b[0;34m.\u001b[0m\u001b[0mdot\u001b[0m\u001b[0;34m(\u001b[0m\u001b[0mw\u001b[0m\u001b[0;34m,\u001b[0m\u001b[0mg\u001b[0m\u001b[0;34m[\u001b[0m\u001b[0;36m0\u001b[0m\u001b[0;34m]\u001b[0m\u001b[0;34m)\u001b[0m\u001b[0;34m,\u001b[0m\u001b[0mg\u001b[0m\u001b[0;34m[\u001b[0m\u001b[0;36m0\u001b[0m\u001b[0;34m]\u001b[0m\u001b[0;34m)\u001b[0m\u001b[0;34m\u001b[0m\u001b[0;34m\u001b[0m\u001b[0m\n\u001b[0m\u001b[1;32m      3\u001b[0m     \u001b[0mvg\u001b[0m \u001b[0;34m=\u001b[0m \u001b[0mnp\u001b[0m\u001b[0;34m.\u001b[0m\u001b[0mdot\u001b[0m\u001b[0;34m(\u001b[0m\u001b[0mnp\u001b[0m\u001b[0;34m.\u001b[0m\u001b[0mdot\u001b[0m\u001b[0;34m(\u001b[0m\u001b[0mv\u001b[0m\u001b[0;34m,\u001b[0m\u001b[0mg\u001b[0m\u001b[0;34m[\u001b[0m\u001b[0;36m0\u001b[0m\u001b[0;34m]\u001b[0m\u001b[0;34m)\u001b[0m\u001b[0;34m,\u001b[0m\u001b[0mg\u001b[0m\u001b[0;34m[\u001b[0m\u001b[0;36m0\u001b[0m\u001b[0;34m]\u001b[0m\u001b[0;34m)\u001b[0m\u001b[0;34m\u001b[0m\u001b[0;34m\u001b[0m\u001b[0m\n\u001b[1;32m      4\u001b[0m     \u001b[0mw_norm_vec\u001b[0m \u001b[0;34m=\u001b[0m \u001b[0mw\u001b[0m\u001b[0;34m-\u001b[0m\u001b[0mwg\u001b[0m\u001b[0;34m\u001b[0m\u001b[0;34m\u001b[0m\u001b[0m\n\u001b[1;32m      5\u001b[0m     \u001b[0mv_norm_vec\u001b[0m \u001b[0;34m=\u001b[0m \u001b[0mv\u001b[0m\u001b[0;34m-\u001b[0m\u001b[0mvg\u001b[0m\u001b[0;34m\u001b[0m\u001b[0;34m\u001b[0m\u001b[0m\n",
      "\u001b[0;32m<__array_function__ internals>\u001b[0m in \u001b[0;36mdot\u001b[0;34m(*args, **kwargs)\u001b[0m\n",
      "\u001b[0;31mValueError\u001b[0m: shapes (299,) and (300,) not aligned: 299 (dim 0) != 300 (dim 0)"
     ]
    },
    {
     "data": {
      "image/png": "[encoded data removed]",
      "text/plain": [
       "<Figure size 432x288 with 1 Axes>"
      ]
     },
     "metadata": {
      "needs_background": "light"
     },
     "output_type": "display_data"
    }
   ],
   "source": [
    "#load models\n",
    "model_g = Word2Vec.load(\"models/model_g\")\n",
    "\n",
    "#check that all models contain the experiment words\n",
    "words_w, words_m, [w, m] = check_w_embedding([words_w, words_m, [w, m]], model_g, True, 'genism')\n",
    "\n",
    "#female correlated words\n",
    "plot_indirect_metric(words_w, w, m, model_g, [g_gutenburg, g_gutenburg_2016, g_gutenburg_2018], 'genism', ['Original', '2016 Debiasing','2018 Debiasing'], [\"2016debias/2016debias_gutenberg_emb.txt\", \"2018debias/2018debias_gutenberg_emb.txt\"], [\"Black\", \"Red\", \"Orange\"])\n",
    "\n",
    "#male correlated words\n",
    "plot_indirect_metric(words_m, w, m, model_g, [g_gutenburg, g_gutenburg_2016, g_gutenburg_2018], 'genism', ['Original', '2016 Debiasing', '2018 Debiasing'], [\"2016debias/2016debias_gutenberg_emb.txt\", \"2018debias/2018debias_gutenberg_emb.txt\"], [\"Blue\", \"Green\", \"Black\"])\n"
   ]
  },
  {
   "cell_type": "markdown",
   "metadata": {},
   "source": [
    "**Indirect Metric for Wikipedia Models**"
   ]
  },
  {
   "cell_type": "code",
   "execution_count": 60,
   "metadata": {},
   "outputs": [
    {
     "name": "stdout",
     "output_type": "stream",
     "text": [
      "b_vals_w: [0.9177660993818735, 0.9131136826158803, 0.8933444026818028, 0.9165408283011843, 0.9113092831994486]\n",
      "b_vals_m: [0.9102605897449744, 0.9063730471878055, 0.9086640325291999, 0.9085827466805928, 0.9051157100611188]\n",
      "b_vals_w: [-0.07045461146361738, -0.07011703478791004, -0.2740862614633388, -0.04918387683733056, -0.08179905446836867]\n",
      "b_vals_m: [-0.022915297929084165, -0.02568703540829599, -0.04566430692170285, -0.013686863572700096, -0.028581457005098763]\n",
      "b_vals_w: [0.9172591527180699, 0.9133586059972365, 0.8883433758321103, 0.915970275737369, 0.9111425886653836]\n",
      "b_vals_m: [0.9095022631022676, 0.9062884057890864, 0.9073636678533832, 0.9082947761641381, 0.9046372783093519]\n"
     ]
    },
    {
     "data": {
      "image/png": "[encoded data removed]",
      "text/plain": [
       "<Figure size 432x288 with 1 Axes>"
      ]
     },
     "metadata": {
      "needs_background": "light"
     },
     "output_type": "display_data"
    },
    {
     "name": "stdout",
     "output_type": "stream",
     "text": [
      "b_vals_w: [0.900171212079532, 0.9112466979991007, 0.9095757466580241, 0.9201485248023188, 0.9205921959504701]\n",
      "b_vals_m: [0.8868281513751737, 0.89709598280727, 0.9006454734479988, 0.9049215264656607, 0.902964799357083]\n",
      "b_vals_w: [-0.014137726149974683, 0.002430457911871474, -0.042321342000190186, 0.022591716662459585, 0.027417030713376516]\n",
      "b_vals_m: [-0.003371409415445644, 0.0007684864639188525, -0.011372901486820148, 0.009452943736959549, 0.0020927886750363835]\n",
      "b_vals_w: [0.8999307654829759, 0.9107883376751048, 0.9090135009934405, 0.9189871492854033, 0.9200029186533365]\n",
      "b_vals_m: [0.8876519416961742, 0.896979084465571, 0.9004582296997949, 0.9051296712700476, 0.9030096144199221]\n"
     ]
    },
    {
     "data": {
      "image/png": "[encoded data removed]",
      "text/plain": [
       "<Figure size 432x288 with 1 Axes>"
      ]
     },
     "metadata": {
      "needs_background": "light"
     },
     "output_type": "display_data"
    }
   ],
   "source": [
    "#load models\n",
    "model_g = Word2Vec.load(\"models/model_g\")\n",
    "\n",
    "#check that all models contain the experiment words\n",
    "words_w, words_m, [w, m] = check_w_embedding([words_w, words_m, [w, m]], model_g, True, 'genism')\n",
    "\n",
    "#female correlated words\n",
    "plot_indirect_metric(words_w, w, m, model_g, [g_wiki, g_wiki_2016, g_wiki_2018], 'wiki', ['Original', '2016 Debiasing','2018 Debiasing'], [\"embeddings/wikipedia_embeddings.txt\", \"2016debias/2016debias_wiki_emb.txt\", \"2018debias/2018debias_wiki_emb.txt\"], [\"Black\", \"Red\", \"Orange\"])\n",
    "\n",
    "#male correlated words\n",
    "plot_indirect_metric(words_m, w, m, model_g, [g_wiki, g_wiki_2016, g_wiki_2018], 'wiki', ['Original', '2016 Debiasing', '2018 Debiasing'], [\"embeddings/wikipedia_embeddings.txt\", \"2016debias/2016debias_wiki_emb.txt\", \"2018debias/2018debias_wiki_emb.txt\"], [\"Blue\", \"Green\", \"Black\"])"
   ]
  },
  {
   "cell_type": "markdown",
   "metadata": {},
   "source": [
    "**Indirect Metric for Gutenburg Custom Word2vec Models**"
   ]
  },
  {
   "cell_type": "code",
   "execution_count": null,
   "metadata": {},
   "outputs": [],
   "source": [
    "#load models\n",
    "with open('models/model_g_custom' , 'rb') as f:\n",
    "    model_g_custom = pickle.load(f)"
   ]
  },
  {
   "cell_type": "code",
   "execution_count": 67,
   "metadata": {},
   "outputs": [
    {
     "name": "stdout",
     "output_type": "stream",
     "text": [
      "{'the': 1, '': 2, 'and': 3, 'of': 4, 'to': 5, 'a': 6, 'i': 7, 'in': 8, 'that': 9, 'he': 10, 'it': 11, 'for': 12, 'with': 13, 'his': 14, 'is': 15, 'you': 16, 'was': 17, 'my': 18, 'not': 19, 'as': 20, 'be': 21, 'but': 22, 'me': 23, 'him': 24, 'this': 25, 'have': 26, 'all': 27, 'on': 28, 'they': 29, 'had': 30, 'by': 31, 'at': 32, 'from': 33, 'which': 34, 'shall': 35, 'her': 36, 'so': 37, 'thou': 38, 'them': 39, 'are': 40, 'will': 41, 'we': 42, 'your': 43, 'were': 44, 'one': 45, 'their': 46, 'lord': 47, 'no': 48, 'what': 49, 'or': 50, 'if': 51, 'there': 52, 'when': 53, 'she': 54, 'unto': 55, 'out': 56, 'said': 57, 'thy': 58, 'an': 59, 'then': 60, 'up': 61, 'who': 62, 'do': 63, 'thee': 64, 'now': 65, 'upon': 66, 'man': 67, 'our': 68, 'would': 69, 'more': 70, 'come': 71, 'into': 72, 'us': 73, 'god': 74, 'like': 75, 'been': 76, 'good': 77, 'well': 78, 'than': 79, 'some': 80, 'go': 81, 'how': 82, 'king': 83, 'time': 84, 'did': 85, 'let': 86, 'may': 87, 'down': 88, 'made': 89, 'sir': 90, 'before': 91, 'see': 92, 'any': 93, 'know': 94, 'these': 95, 'am': 96, 'here': 97, 'make': 98, 'about': 99, 'o': 100, 'came': 101, 'very': 102, 'its': 103, 'great': 104, 'say': 105, 'ye': 106, 'men': 107, 'should': 108, 'day': 109, 'after': 110, 'such': 111, 'little': 112, 'other': 113, 'hath': 114, 'first': 115, 'two': 116, 'where': 117, 'over': 118, 'could': 119, 'can': 120, 'yet': 121, 'love': 122, 'every': 123, 'has': 124, 'even': 125, 'much': 126, 'only': 127, 'take': 128, 'must': 129, 'people': 130, 'hand': 131, 'house': 132, 'old': 133, 'way': 134, 'away': 135, 'son': 136, 'against': 137, 'give': 138, 'tu': 139, 'never': 140, 'most': 141, 'too': 142, 'again': 143, 'ed': 144, 'went': 145, 'life': 146, 'own': 147, 'why': 148, 'ill': 149, 'eyes': 150, 'long': 151, 'think': 152, 'through': 153, 'many': 154, 'those': 155, 'back': 156, 'father': 157, 'place': 158, 'heart': 159, 'things': 160, 'being': 161, 'put': 162, 'off': 163, 'nor': 164, 'ing': 165, 'also': 166, 'ever': 167, 'world': 168, 'tell': 169, 'israel': 170, 'thus': 171, 'still': 172, 'saw': 173, 'himself': 174, 'mine': 175, 'while': 176, 'name': 177, 'night': 178, 'head': 179, 'without': 180, 'new': 181, 'because': 182, 'enter': 183, 'land': 184, 'three': 185, 'just': 186, 'look': 187, 'might': 188, 'speak': 189, 'therefore': 190, 'children': 191, 'face': 192, 'hear': 193, 'another': 194, 'though': 195, 'found': 196, 'thing': 197, 'done': 198, 'whom': 199, 'days': 200, 'shalt': 201, 'among': 202, 'right': 203, 'heard': 204, 'nothing': 205, 'took': 206, 'thought': 207, 'earth': 208, 'art': 209, 'get': 210}\n",
      "idx:  0\n",
      "b_vals_w: [-0.20505245, -0.2255866, -0.20790546, -0.25365585, -0.1843143]\n",
      "b_vals_m: [-0.16277441, -0.18208489, -0.22428097, -0.15564945, -0.1061127]\n",
      "idx:  0\n",
      "b_vals_w: [-0.3842883229751337, -0.3389887921422542, -0.20540509358898504, -0.35261335447751935, -0.32681878450665275]\n",
      "b_vals_m: [-0.23632034285137188, -0.15476884738961855, -0.1237684625561494, -0.15598221552374722, -0.12526544594993025]\n",
      "idx:  1\n",
      "b_vals_w: [1.1652033512323063, 0.06666434427785771, 0.4342872552110165, 0.25132817796638424, -0.11211275585634929]\n",
      "b_vals_m: [-0.4234256111029687, -0.6113675927331057, 0.17572787912212173, -0.6780142571533289, -1.0238318495085044]\n"
     ]
    },
    {
     "data": {
      "image/png": "[encoded data removed]",
      "text/plain": [
       "<Figure size 432x288 with 1 Axes>"
      ]
     },
     "metadata": {
      "needs_background": "light"
     },
     "output_type": "display_data"
    },
    {
     "name": "stdout",
     "output_type": "stream",
     "text": [
      "idx:  0\n",
      "b_vals_w: [-0.35634068, -0.24419995, -0.200305, -0.23023446, -0.26424268]\n",
      "b_vals_m: [-0.2786826, -0.19388175, -0.16708761, -0.14783718, -0.24191758]\n",
      "idx:  0\n",
      "b_vals_w: [-0.522048508860144, -0.3797493213473631, -0.2173737811038662, -0.5849750567054489, -0.38954862606155033]\n",
      "b_vals_m: [-0.27376747241391697, -0.19944493287564585, -0.15606170954776383, -0.34783819970234914, -0.28622927296647965]\n",
      "idx:  1\n",
      "b_vals_w: [0.464295449386145, 1.4701106376635986, 0.30045382435950674, 0.06344396895896799, -0.15223863353229514]\n",
      "b_vals_m: [-1.0862970364449747, 0.23991086466174685, -0.7972430729289277, -0.7073109900837466, -0.8779247318684991]\n"
     ]
    },
    {
     "data": {
      "image/png": "[encoded data removed]",
      "text/plain": [
       "<Figure size 432x288 with 1 Axes>"
      ]
     },
     "metadata": {
      "needs_background": "light"
     },
     "output_type": "display_data"
    }
   ],
   "source": [
    "print(model_g_custom.corpus_vocab)\n",
    "#check that all models contain the experiment words\n",
    "words_w= ['thought', 'us', 'earth', 'life', 'children'] \n",
    "w = 'love' \n",
    "words_m = ['land', 'house', 'hand', 'think', 'let'] \n",
    "m = 'made'\n",
    "words_w, words_m, [w, m] = check_w_embedding([words_w, words_m, [w, m]], model_g_custom, True, 'custom')\n",
    "\n",
    "#female correlated words\n",
    "plot_indirect_metric(words_w, w, m, model_g_custom, [g_gutenburg_custom, g_gutenburg_2018_custom, g_gutenburg_2020_custom], 'custom', ['Original','2018 Debiasing', '2020 Debiasing'], [\"2018debias/2018debias_gutenberg_emb_custom.txt\", \"embeddings/gutenburg_custom_debiased_embeddings.txt\"], [\"Black\", \"Red\", \"Orange\"])\n",
    "\n",
    "#male correlated words\n",
    "plot_indirect_metric(words_m, w, m, model_g_custom, [g_gutenburg_custom, g_gutenburg_2018_custom, g_gutenburg_2020_custom], 'custom', ['Original', '2018 Debiasing', '2020 Debiasing'], [\"2018debias/2018debias_gutenberg_emb_custom.txt\", \"embeddings/gutenburg_custom_debiased_embeddings.txt\"], [\"Blue\", \"Green\", \"Black\"])"
   ]
  },
  {
   "cell_type": "markdown",
   "metadata": {
    "id": "UOv0RFFOX9NP"
   },
   "source": [
    "### 4.4 - WEAT Metric\n",
    "\n",
    "To measure WEAT, we used the formula defined in Caliskan et al., which is an additional direct bias measure. "
   ]
  },
  {
   "cell_type": "markdown",
   "metadata": {
    "id": "OfIcsZSepDE3"
   },
   "source": [
    "<img src=\"img/WEAT.png\" style=\"width:300px;float:left;\"/>"
   ]
  },
  {
   "cell_type": "code",
   "execution_count": 72,
   "metadata": {
    "id": "QNYpB3AopDE3"
   },
   "outputs": [],
   "source": [
    "def s_word_A_B(w,A,B,model, model_type, vocab):\n",
    "    mean_A_sum = 0\n",
    "    mean_B_sum = 0\n",
    "    w_v = w_vec(w,model, model_type, vocab)\n",
    "    \n",
    "    for a in A:\n",
    "        a_vec = w_vec(a,model, model_type, vocab)\n",
    "        mean_A_sum +=cos_sim(w_v,a_vec)\n",
    "    \n",
    "    for b in B:\n",
    "        b_vec = w_vec(b,model, model_type, vocab)\n",
    "        mean_B_sum +=cos_sim(w_v,b_vec)\n",
    "        \n",
    "    return mean_A_sum/len(A) - mean_B_sum/len(B)\n",
    "\n",
    "def s_X_Y_A_B(X,Y,A,B,model, model_type, vocab={}):\n",
    "    sum_X = 0\n",
    "    sum_Y = 0\n",
    "    \n",
    "    for x in X:\n",
    "        sum_X += s_word_A_B(x,A,B,model, model_type, vocab)\n",
    "        \n",
    "    for y in Y:\n",
    "        sum_Y += s_word_A_B(y,A,B,model, model_type, vocab)\n",
    "    \n",
    "    return sum_X - sum_Y"
   ]
  },
  {
   "cell_type": "markdown",
   "metadata": {
    "id": "e16kg8Z6pDE3"
   },
   "source": [
    "Now, lets run experiments on the models <br>\n",
    "A and B are the attribute word groups (8 words each), and X,Y are the target words"
   ]
  },
  {
   "cell_type": "code",
   "execution_count": 69,
   "metadata": {
    "id": "z3OwU4I6pDE3",
    "outputId": "a7c7a064-6be0-4af6-ef77-d450677946e1"
   },
   "outputs": [],
   "source": [
    "#Experiment 1 - work/family\n",
    "A = ['tie', 'manage', 'work', 'paper', 'money', 'office', 'business', 'meeting']\n",
    "B = ['home', 'parents', 'children', 'family', 'sister', 'marriage', 'charm', 'clean']\n",
    "X = ['he', 'him']\n",
    "Y = ['she', 'her'] \n",
    "\n",
    "#Experiment 2 - professions\n",
    "A_2 = ['police', 'manage', 'business', 'lawyer', 'officer', 'science', 'build', 'fire']\n",
    "B_2 = ['teacher', 'clean', 'social', 'hair', 'art', 'make', 'writer', 'library'] \n"
   ]
  },
  {
   "cell_type": "markdown",
   "metadata": {},
   "source": [
    "**WEAT Metric for Gutenburg Models**"
   ]
  },
  {
   "cell_type": "code",
   "execution_count": 16,
   "metadata": {
    "id": "yRdeOsV4pDE4"
   },
   "outputs": [
    {
     "name": "stdout",
     "output_type": "stream",
     "text": [
      "---------Genism-------------\n",
      "WEAT Exp 1: 0.17949908575974405\n",
      "WEAT Exp 2: 0.09589393716305494\n",
      "---------2016 Debiasing-------------\n",
      "WEAT Exp 1: 0.12776186359061337\n",
      "WEAT Exp 2: 0.05573103428929263\n",
      "---------2018 Debiasing-------------\n",
      "WEAT Exp 1: 0.15221834486977004\n",
      "WEAT Exp 2: 0.09102151140409755\n"
     ]
    }
   ],
   "source": [
    "#load models\n",
    "model_g = Word2Vec.load(\"models/model_g\")\n",
    "\n",
    "print (\"---------Genism-------------\")\n",
    "A_g,B_g,X_g,Y_g,A_2_g,B_2_g = check_w_embedding([A,B,X,Y, A_2,B_2], model_g, True, 'genism')\n",
    "print (\"WEAT Exp 1:\", s_X_Y_A_B(X_g,Y_g,A_g,B_g,model_g, 'genism'))\n",
    "print (\"WEAT Exp 2:\", s_X_Y_A_B(X_g,Y_g,A_2_g,B_2_g,model_g, 'genism'))\n",
    "\n",
    "print (\"---------2016 Debiasing-------------\")\n",
    "vocab2016 = read_debiased_embeddings(\"2016debias/2016debias_gutenberg_emb.txt\")\n",
    "A_g_2016,B_g_2016,X_g_2016,Y_g_2016,A_2_g_2016,B_2_g_2016 = check_w_embedding([A,B,X,Y, A_2,B_2], model_g, True, 'debias', vocab2016)\n",
    "print (\"WEAT Exp 1:\", s_X_Y_A_B(X_g_2016,Y_g_2016,A_g_2016,B_g_2016,model_g, 'debias', vocab2016))\n",
    "print (\"WEAT Exp 2:\", s_X_Y_A_B(X_g_2016,Y_g_2016,A_2_g_2016,B_2_g_2016,model_g, 'debias', vocab2016))\n",
    "\n",
    "print (\"---------2018 Debiasing-------------\")\n",
    "vocab2018 = read_debiased_embeddings(\"2018debias/2018debias_gutenberg_emb.txt\")\n",
    "A_g_2018,B_g_2018,X_g_2018,Y_g_2018,A_2_g_2018,B_2_g_2018 = check_w_embedding([A,B,X,Y, A_2,B_2], model_g, True, 'debias', vocab2018)\n",
    "print (\"WEAT Exp 1:\", s_X_Y_A_B(X_g_2018,Y_g_2018,A_g_2018,B_g_2018,model_g, 'debias', vocab2018))\n",
    "print (\"WEAT Exp 2:\", s_X_Y_A_B(X_g_2018,Y_g_2018,A_2_g_2018,B_2_g_2018,model_g, 'debias', vocab2018))\n"
   ]
  },
  {
   "cell_type": "markdown",
   "metadata": {},
   "source": [
    "**WEAT Metric for Wikipedia Models**"
   ]
  },
  {
   "cell_type": "code",
   "execution_count": 52,
   "metadata": {},
   "outputs": [
    {
     "name": "stdout",
     "output_type": "stream",
     "text": [
      "---------Genism-------------\n",
      "WEAT Exp 1: 0.20446737622842193\n",
      "WEAT Exp 2: 0.12759239319711924\n",
      "---------2016 Debiasing-------------\n",
      "WEAT Exp 1: 0.06078536076618002\n",
      "WEAT Exp 2: 0.028830618939882563\n",
      "---------2018 Debiasing-------------\n",
      "WEAT Exp 1: 0.11953439139491051\n",
      "WEAT Exp 2: 0.05835008333097039\n"
     ]
    }
   ],
   "source": [
    "print (\"---------Genism-------------\")\n",
    "vocab = read_debiased_embeddings(\"embeddings/wikipedia_embeddings.txt\")\n",
    "A_w,B_w,X_w,Y_w,A_2_w,B_2_w = check_w_embedding([A,B,X,Y,A_2,B_2], model_g, True, 'debias', vocab)\n",
    "print (\"WEAT Exp 1:\", s_X_Y_A_B(X_w,Y_w,A_w,B_w,model_g, 'wiki'))\n",
    "print (\"WEAT Exp 2:\", s_X_Y_A_B(X_w,Y_w,A_2_w,B_2_w,model_g, 'wiki'))\n",
    "\n",
    "print (\"---------2016 Debiasing-------------\")\n",
    "vocab2016 = read_debiased_embeddings(\"2016debias/2016debias_wiki_emb.txt\")\n",
    "A_w_2016,B_w_2016,X_w_2016,Y_w_2016,A_2_w_2016,B_2_w_2016 = check_w_embedding([A,B,X,Y, A_2,B_2], model_g, True, 'debias', vocab2016)\n",
    "print (\"WEAT Exp 1:\", s_X_Y_A_B(X_w_2016,Y_w_2016,A_w_2016,B_w_2016,model_g, 'debias', vocab2016))\n",
    "print (\"WEAT Exp 2:\", s_X_Y_A_B(X_w_2016,Y_w_2016,A_2_w_2016,B_2_w_2016,model_g, 'debias', vocab2016))\n",
    "\n",
    "print (\"---------2018 Debiasing-------------\")\n",
    "vocab2018 = read_debiased_embeddings(\"2018debias/2018debias_wiki_emb.txt\")\n",
    "A_w_2018,B_w_2018,X_w_2018,Y_w_2018,A_2_w_2018,B_2_w_2018 = check_w_embedding([A,B,X,Y,A_2,B_2], model_g, True, 'debias', vocab2018)\n",
    "print (\"WEAT Exp 1:\", s_X_Y_A_B(X_w_2018,Y_w_2018,A_w_2018,B_w,model_g, 'debias', vocab2018))\n",
    "print (\"WEAT Exp 2:\", s_X_Y_A_B(X_w_2018,Y_w_2018,A_2_w_2018,B_2_w_2018,model_g, 'debias', vocab2018))\n"
   ]
  },
  {
   "cell_type": "markdown",
   "metadata": {},
   "source": [
    "**WEAT Metric for Gutenburg Custom Word2vec Models**"
   ]
  },
  {
   "cell_type": "code",
   "execution_count": null,
   "metadata": {},
   "outputs": [],
   "source": [
    "#load models\n",
    "with open('models/model_g_custom' , 'rb') as f:\n",
    "    model_g_custom = pickle.load(f)"
   ]
  },
  {
   "cell_type": "code",
   "execution_count": 75,
   "metadata": {},
   "outputs": [
    {
     "name": "stdout",
     "output_type": "stream",
     "text": [
      "---------Original-------------\n",
      "WEAT Exp 3: -0.06276037381030619\n",
      "---------2018 Debiasing-------------\n",
      "WEAT Exp 3: 0.00021178337204497133\n",
      "---------2020 Debiasing-------------\n",
      "WEAT Exp 3: -0.11880533997016307\n"
     ]
    }
   ],
   "source": [
    "#Experiment 3 - custom model words\n",
    "A_3 = ['land', 'house', 'hand', 'think', 'make', 'made', 'days', 'among']\n",
    "B_3 = ['us', 'earth', 'life', 'children', 'art', 'love', 'face', 'hear'] \n",
    "    \n",
    "    \n",
    "print (\"---------Original-------------\")\n",
    "X_g,Y_g,A_3_g,B_3_g = check_w_embedding([X,Y, A_3,B_3], model_g_custom, True, 'custom')\n",
    "print (\"WEAT Exp 3:\", s_X_Y_A_B(X_g,Y_g,A_3_g,B_3_g,model_g_custom, 'custom'))\n",
    "\n",
    "print (\"---------2018 Debiasing-------------\")\n",
    "vocab2018 = read_debiased_embeddings(\"2018debias/2018debias_gutenberg_emb_custom.txt\")\n",
    "X_g_2018,Y_g_2018,A_3_g_2018,B_3_g_2018 = check_w_embedding([X,Y, A_3,B_3], model_g_custom, True, 'debias', vocab2018)\n",
    "print (\"WEAT Exp 3:\", s_X_Y_A_B(X_g_2018,Y_g_2018,A_3_g_2018,B_3_g_2018,model_g_custom, 'debias', vocab2018))\n",
    "\n",
    "print (\"---------2020 Debiasing-------------\")\n",
    "vocab2020 = read_debiased_embeddings(\"embeddings/gutenburg_custom_debiased_embeddings.txt\")\n",
    "X_g_2020,Y_g_2020,A_3_g_2020,B_3_g_2020 = check_w_embedding([X,Y, A_3,B_3], model_g_custom, True, 'debias', vocab2020)\n",
    "print (\"WEAT Exp 3:\", s_X_Y_A_B(X_g_2020,Y_g_2020,A_3_g_2020,B_3_g_2020,model_g_custom, 'debias', vocab2020))"
   ]
  }
 ],
 "metadata": {
  "accelerator": "GPU",
  "colab": {
   "collapsed_sections": [],
   "name": "Word2Vec Model and Bias Measurements.ipynb",
   "provenance": []
  },
  "kernelspec": {
   "display_name": "Python 3 (ipykernel)",
   "language": "python",
   "name": "python3"
  },
  "language_info": {
   "codemirror_mode": {
    "name": "ipython",
    "version": 3
   },
   "file_extension": ".py",
   "mimetype": "text/x-python",
   "name": "python",
   "nbconvert_exporter": "python",
   "pygments_lexer": "ipython3",
   "version": "3.8.7"
  }
 },
 "nbformat": 4,
 "nbformat_minor": 1
}
