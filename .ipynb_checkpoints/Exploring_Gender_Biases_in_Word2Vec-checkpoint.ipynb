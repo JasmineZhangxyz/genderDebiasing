{
 "cells": [
  {
   "cell_type": "markdown",
   "metadata": {
    "id": "5XP3YOprVwyX"
   },
   "source": [
    "# Exploring Gender Biases in Word2Vec \n",
    "\n",
    "This notebook processes the data from the Gutenburg and Wikipedia datasets. Then, it trains the words agains Genism's word2Vec model, a custom skip-gram based word2vec model and our debiasing solutions. \n",
    "\n",
    "To measure biases that are hidden within these embeddings created by the models, we explore the direct bias, indirect bias, and the WEAT metric for comparision. "
   ]
  },
  {
   "cell_type": "code",
   "execution_count": 128,
   "metadata": {
    "colab": {
     "base_uri": "https://localhost:8080/"
    },
    "id": "h4LSSjBdfJhI",
    "outputId": "dfd47a58-6b57-4110-9160-f206ad21f54a"
   },
   "outputs": [],
   "source": [
    "#library imports\n",
    "import string\n",
    "import numpy as np\n",
    "from numpy.linalg import norm\n",
    "import json\n",
    "import tempfile\n",
    "from sklearn.decomposition import PCA\n",
    "import torch\n",
    "from torchtext.data.utils import get_tokenizer\n",
    "\n",
    "#configure paths\n",
    "import sys\n",
    "import os\n",
    "\n",
    "module_path = os.path.abspath(os.path.join('..'))\n",
    "if module_path not in sys.path:\n",
    "    sys.path.append(module_path+\"\\\\nn_webserver\")\n",
    "\n",
    "#gutenberg data import\n",
    "from gutenberg.gutenberg_data import get_urls, read_data_from_urls\n",
    "\n",
    "#models import\n",
    "from gensim.models import Word2Vec\n",
    "from custom_word2vec import Custom_Word2Vec\n",
    "import pickle\n",
    "\n",
    "#plots\n",
    "import matplotlib.pyplot as plt "
   ]
  },
  {
   "cell_type": "markdown",
   "metadata": {
    "id": "xhIMaI4vV8VI"
   },
   "source": [
    "## 1 - Data Preprocessing"
   ]
  },
  {
   "cell_type": "code",
   "execution_count": 2,
   "metadata": {
    "id": "RzDntNYcmVec"
   },
   "outputs": [],
   "source": [
    "def create_tokens(data):\n",
    "    \"\"\"\n",
    "    creates tokenized list with puncuation and digits removed and lowercase words \n",
    "\n",
    "    :param data: list of strings\n",
    "    :return: a list of tokens \n",
    "    \"\"\" \n",
    "    tokens = []\n",
    "    for sentance in data:\n",
    "        sentance = sentance.translate(str.maketrans('', '', string.punctuation)) #remove punctuations\n",
    "        sentance = sentance.translate(str.maketrans('', '', string.digits)) #remove digits\n",
    "        tokenizer = get_tokenizer(\"basic_english\", language=\"en\") #remove unessasary characters, splits into spaces\n",
    "        tokens.append(tokenizer(sentance))\n",
    "  \n",
    "    return tokens\n",
    "  "
   ]
  },
  {
   "cell_type": "markdown",
   "metadata": {
    "id": "tTskJcpBpDEt"
   },
   "source": [
    "**Gutenburg Dataset**"
   ]
  },
  {
   "cell_type": "code",
   "execution_count": 3,
   "metadata": {
    "colab": {
     "base_uri": "https://localhost:8080/"
    },
    "id": "zsTQM81GpDEu",
    "outputId": "12fedd03-76dd-4c73-f874-c921b02c98fc"
   },
   "outputs": [],
   "source": [
    "# Gutenburg\n",
    "train_urls = get_urls('train')\n",
    "train_data_g = read_data_from_urls(train_urls)\n",
    "train_data_g=str(train_data_g).split('.')\n",
    "\n",
    "rough_guten = create_tokens(train_data_g)\n",
    "\n",
    "sentences_gutenburg = []\n",
    "for sentence in rough_guten:\n",
    "    new_sentence = []\n",
    "    for word in sentence:\n",
    "        if 'rn' in word:\n",
    "            temp = word.replace('rn', ' ')\n",
    "            while temp and temp[0] == ' ':\n",
    "                temp = temp.replace(' ', '')\n",
    "            while temp and '  ' in temp:\n",
    "                temp = temp.replace('  ', '')\n",
    "            if ' ' in temp:\n",
    "                temp = temp.split(' ')\n",
    "                for word_thing in temp:\n",
    "                    new_sentence.append(word_thing)\n",
    "            else:\n",
    "                new_sentence.append(temp)\n",
    "        else:\n",
    "            new_sentence.append(word)\n",
    "    sentences_gutenburg.append(new_sentence)"
   ]
  },
  {
   "cell_type": "markdown",
   "metadata": {
    "id": "0PcqA9wapDEv"
   },
   "source": [
    "**Wikipedia Dataset**"
   ]
  },
  {
   "cell_type": "code",
   "execution_count": null,
   "metadata": {
    "id": "QdY5fDuEpDEw",
    "outputId": "5c3c79b9-63a1-4f27-a540-fa70fc990d8d"
   },
   "outputs": [
    {
     "name": "stdout",
     "output_type": "stream",
     "text": [
      "159\n"
     ]
    }
   ],
   "source": [
    "#Wikipedia\n",
    "f = open('wikipedia-en-1000.json')\n",
    "train_data_w = json.load(f)\n",
    "train_data_w =str(train_data_w[0]).split('.')\n",
    "\n",
    "sentences_wikipedia = create_tokens(train_data_w)\n",
    "print(len(sentences_wikipedia))"
   ]
  },
  {
   "cell_type": "markdown",
   "metadata": {
    "id": "kGQ-ic0KpDEw"
   },
   "source": [
    "## 2 - Genism Word2Vec"
   ]
  },
  {
   "cell_type": "markdown",
   "metadata": {
    "id": "vADvrY8rDeuq"
   },
   "source": [
    "Using: Skip-gram training algorithm. \n",
    "\n",
    "Hyperparameters:\n",
    "- min_freq: choosing the top N most frequent words - for easier training, weed out words that are irrelevant to us \n",
    "- size: embedding size. We use 300 as per Bolukbasi et al.\n",
    "- window: the window used for looking at context and center words when traing the embeddings "
   ]
  },
  {
   "cell_type": "code",
   "execution_count": 110,
   "metadata": {},
   "outputs": [],
   "source": [
    "#hyperparameters\n",
    "min_freq = 50\n",
    "size = 300\n",
    "window = 5\n",
    "epochs = 11"
   ]
  },
  {
   "cell_type": "markdown",
   "metadata": {},
   "source": [
    "**Gutenburg Genism Model**"
   ]
  },
  {
   "cell_type": "code",
   "execution_count": 111,
   "metadata": {
    "colab": {
     "base_uri": "https://localhost:8080/",
     "height": 258
    },
    "id": "cHtqmychpDEx",
    "outputId": "866140be-8705-4864-b7a7-7598b1f38101"
   },
   "outputs": [],
   "source": [
    "model_g = Word2Vec(min_count=min_freq, vector_size=size, window=window, sg=1) #sg=1 is the skip-gram training algorithm\n",
    "model_g.init_weights()\n",
    "model_g.build_vocab(sentences_gutenburg) \n",
    "model_g.train(sentences_gutenburg, total_examples=model_g.corpus_count, epochs=epochs)\n",
    "\n",
    "model_g.save(\"models/model_g\")\n"
   ]
  },
  {
   "cell_type": "markdown",
   "metadata": {},
   "source": [
    "**Wikipedia Genism Model**"
   ]
  },
  {
   "cell_type": "code",
   "execution_count": null,
   "metadata": {},
   "outputs": [],
   "source": [
    "model_w = Word2Vec(min_count=min_freq, vector_size=size, window=window, sg=1) #sg=1 is the skip-gram training algorithm\n",
    "model_w.init_weights()\n",
    "model_w.build_vocab(sentences_wikipedia) \n",
    "model_w.train(sentences_wikipedia, total_examples=model_g.corpus_count, epochs=epochs)\n",
    "\n",
    "model_w.save(\"models/model_w\")"
   ]
  },
  {
   "cell_type": "markdown",
   "metadata": {
    "id": "fYDVA5_wpDEy"
   },
   "source": [
    "Now, save the embeddings to use in debiasing. "
   ]
  },
  {
   "cell_type": "code",
   "execution_count": 112,
   "metadata": {
    "id": "e_XcKc4SpDEy"
   },
   "outputs": [],
   "source": [
    "with open('embeddings/gutenberg_embeddings.txt', 'w') as f:\n",
    "    for idx, key in enumerate(list(model_g.wv.index_to_key)):\n",
    "        embedding = ' '.join(str(v) for v in model_g.wv.get_vector(key))\n",
    "        f.write(key + \" \" + embedding+\"\\n\")"
   ]
  },
  {
   "cell_type": "code",
   "execution_count": null,
   "metadata": {
    "id": "J9hErZ1ApDEz"
   },
   "outputs": [],
   "source": [
    "with open('embeddings/wikipedia_embeddings.txt', 'w') as f:\n",
    "    for idx, key in enumerate(list(model_w.wv.index_to_key)):\n",
    "        embedding = ' '.join(str(v) for v in model_w.wv.get_vector(key))\n",
    "        f.write(key + \" \" + embedding+\"\\n\")"
   ]
  },
  {
   "cell_type": "markdown",
   "metadata": {
    "id": "9VzYjT6CqAJv"
   },
   "source": [
    "## 3 - Custom Word2Vec \n",
    "\n",
    "Using the same hyperparameters as Genism, train our own word2vec model (withought debiasing) on the data. "
   ]
  },
  {
   "cell_type": "code",
   "execution_count": 10,
   "metadata": {
    "colab": {
     "base_uri": "https://localhost:8080/",
     "height": 366
    },
    "id": "wNHWm-S7qSiD",
    "outputId": "765dcb4b-60da-479a-db8a-b72f7493fff0"
   },
   "outputs": [],
   "source": [
    "# hyperparameters\n",
    "embedding_dim=300\n",
    "LR=0.01\n",
    "window_size=2\n",
    "EPOCHS=5\n",
    "min_freq = 1000"
   ]
  },
  {
   "cell_type": "markdown",
   "metadata": {},
   "source": [
    "**Gutenburg Custom Model**"
   ]
  },
  {
   "cell_type": "code",
   "execution_count": null,
   "metadata": {},
   "outputs": [
    {
     "name": "stdout",
     "output_type": "stream",
     "text": [
      "Generating Skip Grams...\n",
      "...(0.7419min)\n",
      "Training. Curr Time = 09:04:11 , Estimated Finish Time = 18:09:22\n",
      "Epoch: 1, Training Loss: 6551374.260236576  (78.5356min)\n",
      "Epoch: 2, Training Loss: 6447569.940075085  (78.2289min)\n",
      "Epoch: 3, Training Loss: 6435655.812316194  (78.0902min)\n",
      "Epoch: 4, Training Loss: 6432436.643278345  (78.0330min)\n"
     ]
    }
   ],
   "source": [
    "model_g_custom = Custom_Word2Vec(sentences_gutenburg, embedding_dim, LR, window_size, EPOCHS, min_freq)\n",
    "model_g_custom.train()\n",
    "\n",
    "#store in Jupiter Notebook to reuse via (%store -r model_g_custom)\n",
    "%store model_g_custom"
   ]
  },
  {
   "cell_type": "markdown",
   "metadata": {},
   "source": [
    "**Wikipedia Custom Model**"
   ]
  },
  {
   "cell_type": "code",
   "execution_count": null,
   "metadata": {},
   "outputs": [],
   "source": [
    "model_w_custom = Custom_Word2Vec(sentences_wikipedia, embedding_dim, LR, window_size, EPOCHS, min_freq)\n",
    "model_w_custom.train()\n",
    "\n",
    "#store in Jupiter Notebook to reuse via (%store -r model_w_custom)\n",
    "%store model_w_custom"
   ]
  },
  {
   "cell_type": "markdown",
   "metadata": {},
   "source": [
    "Now, save the embeddings to use in debiasing."
   ]
  },
  {
   "cell_type": "code",
   "execution_count": null,
   "metadata": {},
   "outputs": [],
   "source": [
    "with open('embeddings/gutenburg_custom_embeddings.txt', 'w') as f:\n",
    "    for word in model_g_custom.corpus_vocab:\n",
    "        embedding = ' '.join(model_g_custom.embedding(word))\n",
    "        f.write(word + \" \" + embedding +\"\\n\")"
   ]
  },
  {
   "cell_type": "code",
   "execution_count": null,
   "metadata": {},
   "outputs": [],
   "source": [
    "with open('embeddings/wikipedia_custom_embeddings.txt', 'w') as f:\n",
    "    for word in model_w_custom.corpus_vocab:\n",
    "        embedding = ' '.join(model_w_custom.embedding(word))\n",
    "        f.write(word + \" \" + embedding +\"\\n\")"
   ]
  },
  {
   "cell_type": "markdown",
   "metadata": {
    "id": "L9jws4VUXiuh"
   },
   "source": [
    "## 4 - Measuring Bias"
   ]
  },
  {
   "cell_type": "markdown",
   "metadata": {},
   "source": [
    "### 4.0 - Define Helper functions\n",
    "\n",
    "Define some useful helper functions to use in the measurement techniques"
   ]
  },
  {
   "cell_type": "code",
   "execution_count": 113,
   "metadata": {},
   "outputs": [],
   "source": [
    "def get_vocab(model, model_type, vocab):\n",
    "    '''\n",
    "    returns the vocabulary of the model\n",
    "    '''\n",
    "    if model_type == 'genism' or model_type == 'wiki':\n",
    "        return model.wv.key_to_index\n",
    "    elif model_type == 'custom':\n",
    "        return model.corpus_vocab\n",
    "    elif model_type == 'debias':\n",
    "        return vocab\n",
    "    else:\n",
    "        print(\"Model type is wrong\")\n",
    "        return []\n",
    "\n",
    "def check_w_embedding(word_lists, model, printRemoved, model_type, vocab={}):\n",
    "    '''\n",
    "    checks if the embedding exists for the given word, and if not deletes it from the lists. \n",
    "    if printRemoved = true, it also declares the words that were not in the model embeddings. \n",
    "    '''\n",
    "    new_w_lists = []\n",
    "    \n",
    "    for word_list in word_lists:\n",
    "        new_w_l = []\n",
    "        for w in word_list: \n",
    "            if w in get_vocab(model, model_type, vocab):\n",
    "                new_w_l.append(w)\n",
    "            else:\n",
    "                if printRemoved:\n",
    "                    print (\"Word\", w, \" is not in the model\")\n",
    "        \n",
    "        if (len(new_w_l)!=0):\n",
    "            new_w_lists.append(new_w_l)\n",
    "    \n",
    "    return new_w_lists\n",
    "\n",
    "def w_vec(word, model, model_type, vocab):\n",
    "    '''\n",
    "    returns the word embedding of the input word\n",
    "    '''\n",
    "    if model_type == 'genism' or model_type == 'wiki':\n",
    "        return model.wv[word]\n",
    "    elif model_type == 'custom':\n",
    "        return model.embedding(word)\n",
    "    elif model_type == 'debias':\n",
    "        return vocab[word]\n",
    "    else:\n",
    "        print(\"Model type is wrong\")\n",
    "        return []\n",
    "\n",
    "def cos_sim(a,b):\n",
    "    '''\n",
    "    returns the cosine similarity between 2 word embeddings \n",
    "    '''\n",
    "    return np.dot(a, b)/(norm(a)*norm(b))"
   ]
  },
  {
   "cell_type": "markdown",
   "metadata": {},
   "source": [
    "As well, for the debiased embeddings, we need a way to retrieve the dat from the embedding text file. Create a function to do so."
   ]
  },
  {
   "cell_type": "code",
   "execution_count": 114,
   "metadata": {},
   "outputs": [],
   "source": [
    "def read_debiased_embeddings(file):\n",
    "    vocab = {}\n",
    "    with open(file, 'r') as f:\n",
    "        for line in f:\n",
    "            key, embedding = line.split(' ', 1)#split by first space\n",
    "            emb_vec= list(map(float, embedding.split(' ')[:-1])) #convert embedding to int, remove new line  \n",
    "            vocab[key] = np.array(emb_vec)\n",
    "    return vocab "
   ]
  },
  {
   "cell_type": "markdown",
   "metadata": {
    "id": "EXVe1S3hpDEz"
   },
   "source": [
    "### 4.1 - Construct the g subspace\n",
    "First, define gendered words and pairs ground truth (taken from Bolukbasi et al.) Using PCA, define the gendered subspace g, by taking the most prominent dimension. "
   ]
  },
  {
   "cell_type": "code",
   "execution_count": 130,
   "metadata": {
    "id": "WGwiksMipDE0",
    "outputId": "ed4a1e49-169d-4e8a-d123-17f2774b239d"
   },
   "outputs": [],
   "source": [
    "def filter_gender_pairs(gender_pairs):\n",
    "    filtered_pairs=[]\n",
    "    for pair in gender_pairs:\n",
    "        if len(pair)==2:\n",
    "            filtered_pairs.append(pair)\n",
    "    return filtered_pairs\n",
    "\n",
    "def gender_subspace_matrix(model, gender_pairs, model_type, vocab):\n",
    "    '''\n",
    "    create matrix of the gender space using gender pairs\n",
    "        \n",
    "    '''\n",
    "    word_directions = []\n",
    "    for word_pair in gender_pairs:\n",
    "        if (len(word_pair) == 2):\n",
    "            f_word = w_vec(word_pair[0], model, model_type, vocab)\n",
    "            m_word = w_vec(word_pair[1], model, model_type, vocab)\n",
    "            dif = f_word-m_word\n",
    "            word_directions.append(dif)\n",
    "        \n",
    "        \n",
    "    return np.array(word_directions)\n",
    "\n",
    "\n",
    "def define_vector_g(model, model_type, gender_pairs, vocab={}):\n",
    "    word_directions = gender_subspace_matrix(model, gender_pairs, model_type, vocab) \n",
    "\n",
    "    #PCA of word direction\n",
    "    pca = PCA(n_components=len(gender_pairs))\n",
    "    pca.fit(word_directions)\n",
    "    \n",
    "    ratios = pca.explained_variance_ratio_\n",
    "    #print graph of PCA dimensions to determine how many dimensions should be kept\n",
    "    print(\"PCA variance ratio:\", ratios)\n",
    "    print(\"PCA singular values:\", pca.singular_values_)\n",
    "\n",
    "    #use the 1 most prominent dimension\n",
    "    pca = PCA(n_components=1)\n",
    "    pca.fit(word_directions)\n",
    "    g = pca.components_\n",
    "    \n",
    "    return g, ratios\n",
    "\n",
    "def run_gender_subspace_calcs(model, model_type, txtfiles):\n",
    "    variance_ratios = []\n",
    "    #genism model\n",
    "    print (\"---------Original-------------\")\n",
    "    gender_pairs_new = filter_gender_pairs(check_w_embedding(gender_pairs, model, False, model_type))\n",
    "    print (\"Gender Pairs: \", gender_pairs_new)\n",
    "    g, pca_ratios = define_vector_g(model, model_type, gender_pairs_new)\n",
    "    variance_ratios.append(pca_ratios)\n",
    "\n",
    "    #2016 debiasing \n",
    "    print (\"---------2016debias-------------\")\n",
    "    \n",
    "\n",
    "    #2018 debiasing\n",
    "    print (\"---------2018debias-------------\")\n",
    "    vocab2018 = read_debiased_embeddings(txtfiles[0])\n",
    "    gender_pairs_2018 = filter_gender_pairs(check_w_embedding(gender_pairs, model, False, 'debias', vocab2018))\n",
    "    print (\"Gender Pairs: \", gender_pairs_2018)\n",
    "    g_2018, pca_ratios_2018 = define_vector_g(model, 'debias', gender_pairs_2018, vocab2018)\n",
    "    variance_ratios.append(pca_ratios_2018)\n",
    "\n",
    "    #combined graph:\n",
    "    labels = ['Original', '2018 Debiasing']\n",
    "    colors = ['orange', 'blue']\n",
    "    plot_significance(variance_ratios, labels, colors, model_type)\n",
    "    \n",
    "    return g, g_2018\n",
    "\n",
    "def plot_significance(variance_ratios, labels, colors, model):\n",
    "    width = 0.3\n",
    "    for i in range(len(variance_ratios)):\n",
    "        ratio = variance_ratios[i]\n",
    "        r = np.arange(1, len(ratio)+1)\n",
    "        plt.bar(r + width*i, ratio, color=colors[i], edgecolor='white', width=width, alpha=0.5)\n",
    "        plt.xlabel(\"Matrix Variance Column\")\n",
    "        plt.ylabel(\"Variance\")\n",
    "    \n",
    "    \n",
    "    plt.title(\"Significance of each eigenvector for \"+model+\" models\") \n",
    "    plt.legend(labels)\n",
    "    plt.show()\n",
    "        \n",
    "\n",
    "#gender pairs\n",
    "gender_pairs = [['she','he'],['her','his'],['woman','man'],['Mary','John'],['herself','himself'],['daughter','son'],['mother','father'],['gal','guy'],['girl','boy'],['female','male']]"
   ]
  },
  {
   "cell_type": "markdown",
   "metadata": {},
   "source": [
    "**Gender Subspace for Gutenburg Models**"
   ]
  },
  {
   "cell_type": "code",
   "execution_count": 131,
   "metadata": {},
   "outputs": [
    {
     "name": "stdout",
     "output_type": "stream",
     "text": [
      "---------Original-------------\n",
      "Gender Pairs:  [['she', 'he'], ['her', 'his'], ['woman', 'man'], ['herself', 'himself'], ['daughter', 'son'], ['mother', 'father'], ['girl', 'boy'], ['female', 'male']]\n",
      "PCA variance ratio: [2.2873145e-01 2.1048002e-01 1.6368133e-01 1.5716054e-01 1.3005719e-01\n",
      " 7.5725868e-02 3.4163605e-02 6.6469462e-15]\n",
      "PCA singular values: [4.0653491e+00 3.8997819e+00 3.4390182e+00 3.3698196e+00 3.0655053e+00\n",
      " 2.3391445e+00 1.5711467e+00 6.9302035e-07]\n",
      "---------2016debias-------------\n",
      "---------2018debias-------------\n",
      "Gender Pairs:  [['she', 'he'], ['her', 'his'], ['woman', 'man'], ['herself', 'himself'], ['daughter', 'son'], ['mother', 'father'], ['gal', 'guy'], ['girl', 'boy'], ['female', 'male']]\n",
      "PCA variance ratio: [2.16777197e-01 1.97392966e-01 1.56127963e-01 1.49379561e-01\n",
      " 1.23078041e-01 7.28935139e-02 5.28054050e-02 3.15453540e-02\n",
      " 1.41289443e-32]\n",
      "PCA singular values: [4.07391790e+00 3.88750813e+00 3.45736969e+00 3.38182448e+00\n",
      " 3.06969878e+00 2.36238087e+00 2.01068789e+00 1.55407930e+00\n",
      " 1.04006464e-15]\n"
     ]
    },
    {
     "data": {
      "image/png": "[encoded data removed]",
      "text/plain": [
       "<Figure size 432x288 with 1 Axes>"
      ]
     },
     "metadata": {
      "needs_background": "light"
     },
     "output_type": "display_data"
    }
   ],
   "source": [
    "#load model\n",
    "model_g = Word2Vec.load(\"models/model_g\")\n",
    "\n",
    "#calculate g subspace\n",
    "g_gutenburg, g_gutenburg_2018 = run_gender_subspace_calcs(model_g, \"genism\", [\"2018debias/2018debias_gutenberg_emb.txt\"])"
   ]
  },
  {
   "cell_type": "markdown",
   "metadata": {},
   "source": [
    "**Gender Subspace for Wikipedia Models**"
   ]
  },
  {
   "cell_type": "code",
   "execution_count": 94,
   "metadata": {},
   "outputs": [
    {
     "ename": "FileNotFoundError",
     "evalue": "[Errno 2] No such file or directory: 'models/model_w.wv.vectors.npy'",
     "output_type": "error",
     "traceback": [
      "\u001b[0;31m---------------------------------------------------------------------------\u001b[0m",
      "\u001b[0;31mFileNotFoundError\u001b[0m                         Traceback (most recent call last)",
      "\u001b[0;32m/var/folders/yd/1xm7_bqn669bxvprqw9zpnxc0000gn/T/ipykernel_74440/605987972.py\u001b[0m in \u001b[0;36m<module>\u001b[0;34m\u001b[0m\n\u001b[1;32m      1\u001b[0m \u001b[0;31m#load model\u001b[0m\u001b[0;34m\u001b[0m\u001b[0;34m\u001b[0m\u001b[0;34m\u001b[0m\u001b[0m\n\u001b[0;32m----> 2\u001b[0;31m \u001b[0mmodel_w\u001b[0m \u001b[0;34m=\u001b[0m \u001b[0mWord2Vec\u001b[0m\u001b[0;34m.\u001b[0m\u001b[0mload\u001b[0m\u001b[0;34m(\u001b[0m\u001b[0;34m\"models/model_w\"\u001b[0m\u001b[0;34m)\u001b[0m\u001b[0;34m\u001b[0m\u001b[0;34m\u001b[0m\u001b[0m\n\u001b[0m\u001b[1;32m      3\u001b[0m \u001b[0;34m\u001b[0m\u001b[0m\n\u001b[1;32m      4\u001b[0m \u001b[0;31m#calculate g subspace\u001b[0m\u001b[0;34m\u001b[0m\u001b[0;34m\u001b[0m\u001b[0;34m\u001b[0m\u001b[0m\n\u001b[1;32m      5\u001b[0m \u001b[0mg_gutenburg\u001b[0m\u001b[0;34m,\u001b[0m \u001b[0mg_gutenburg_2018\u001b[0m \u001b[0;34m=\u001b[0m \u001b[0mrun_gender_subspace_calcs\u001b[0m\u001b[0;34m(\u001b[0m\u001b[0mmodel_w\u001b[0m\u001b[0;34m,\u001b[0m \u001b[0;34m\"wiki\"\u001b[0m\u001b[0;34m,\u001b[0m \u001b[0;34m[\u001b[0m\u001b[0;34m\"2018debias/2018debias_wiki_emb.txt\"\u001b[0m\u001b[0;34m]\u001b[0m\u001b[0;34m)\u001b[0m\u001b[0;34m\u001b[0m\u001b[0;34m\u001b[0m\u001b[0m\n",
      "\u001b[0;32m/Library/Frameworks/Python.framework/Versions/3.8/lib/python3.8/site-packages/gensim/models/word2vec.py\u001b[0m in \u001b[0;36mload\u001b[0;34m(cls, rethrow, *args, **kwargs)\u001b[0m\n\u001b[1;32m   1928\u001b[0m         \"\"\"\n\u001b[1;32m   1929\u001b[0m         \u001b[0;32mtry\u001b[0m\u001b[0;34m:\u001b[0m\u001b[0;34m\u001b[0m\u001b[0;34m\u001b[0m\u001b[0m\n\u001b[0;32m-> 1930\u001b[0;31m             \u001b[0mmodel\u001b[0m \u001b[0;34m=\u001b[0m \u001b[0msuper\u001b[0m\u001b[0;34m(\u001b[0m\u001b[0mWord2Vec\u001b[0m\u001b[0;34m,\u001b[0m \u001b[0mcls\u001b[0m\u001b[0;34m)\u001b[0m\u001b[0;34m.\u001b[0m\u001b[0mload\u001b[0m\u001b[0;34m(\u001b[0m\u001b[0;34m*\u001b[0m\u001b[0margs\u001b[0m\u001b[0;34m,\u001b[0m \u001b[0;34m**\u001b[0m\u001b[0mkwargs\u001b[0m\u001b[0;34m)\u001b[0m\u001b[0;34m\u001b[0m\u001b[0;34m\u001b[0m\u001b[0m\n\u001b[0m\u001b[1;32m   1931\u001b[0m             \u001b[0;32mif\u001b[0m \u001b[0;32mnot\u001b[0m \u001b[0misinstance\u001b[0m\u001b[0;34m(\u001b[0m\u001b[0mmodel\u001b[0m\u001b[0;34m,\u001b[0m \u001b[0mWord2Vec\u001b[0m\u001b[0;34m)\u001b[0m\u001b[0;34m:\u001b[0m\u001b[0;34m\u001b[0m\u001b[0;34m\u001b[0m\u001b[0m\n\u001b[1;32m   1932\u001b[0m                 \u001b[0mrethrow\u001b[0m \u001b[0;34m=\u001b[0m \u001b[0;32mTrue\u001b[0m\u001b[0;34m\u001b[0m\u001b[0;34m\u001b[0m\u001b[0m\n",
      "\u001b[0;32m/Library/Frameworks/Python.framework/Versions/3.8/lib/python3.8/site-packages/gensim/utils.py\u001b[0m in \u001b[0;36mload\u001b[0;34m(cls, fname, mmap)\u001b[0m\n\u001b[1;32m    484\u001b[0m \u001b[0;34m\u001b[0m\u001b[0m\n\u001b[1;32m    485\u001b[0m         \u001b[0mobj\u001b[0m \u001b[0;34m=\u001b[0m \u001b[0munpickle\u001b[0m\u001b[0;34m(\u001b[0m\u001b[0mfname\u001b[0m\u001b[0;34m)\u001b[0m\u001b[0;34m\u001b[0m\u001b[0;34m\u001b[0m\u001b[0m\n\u001b[0;32m--> 486\u001b[0;31m         \u001b[0mobj\u001b[0m\u001b[0;34m.\u001b[0m\u001b[0m_load_specials\u001b[0m\u001b[0;34m(\u001b[0m\u001b[0mfname\u001b[0m\u001b[0;34m,\u001b[0m \u001b[0mmmap\u001b[0m\u001b[0;34m,\u001b[0m \u001b[0mcompress\u001b[0m\u001b[0;34m,\u001b[0m \u001b[0msubname\u001b[0m\u001b[0;34m)\u001b[0m\u001b[0;34m\u001b[0m\u001b[0;34m\u001b[0m\u001b[0m\n\u001b[0m\u001b[1;32m    487\u001b[0m         \u001b[0mobj\u001b[0m\u001b[0;34m.\u001b[0m\u001b[0madd_lifecycle_event\u001b[0m\u001b[0;34m(\u001b[0m\u001b[0;34m\"loaded\"\u001b[0m\u001b[0;34m,\u001b[0m \u001b[0mfname\u001b[0m\u001b[0;34m=\u001b[0m\u001b[0mfname\u001b[0m\u001b[0;34m)\u001b[0m\u001b[0;34m\u001b[0m\u001b[0;34m\u001b[0m\u001b[0m\n\u001b[1;32m    488\u001b[0m         \u001b[0;32mreturn\u001b[0m \u001b[0mobj\u001b[0m\u001b[0;34m\u001b[0m\u001b[0;34m\u001b[0m\u001b[0m\n",
      "\u001b[0;32m/Library/Frameworks/Python.framework/Versions/3.8/lib/python3.8/site-packages/gensim/models/word2vec.py\u001b[0m in \u001b[0;36m_load_specials\u001b[0;34m(self, *args, **kwargs)\u001b[0m\n\u001b[1;32m   1944\u001b[0m     \u001b[0;32mdef\u001b[0m \u001b[0m_load_specials\u001b[0m\u001b[0;34m(\u001b[0m\u001b[0mself\u001b[0m\u001b[0;34m,\u001b[0m \u001b[0;34m*\u001b[0m\u001b[0margs\u001b[0m\u001b[0;34m,\u001b[0m \u001b[0;34m**\u001b[0m\u001b[0mkwargs\u001b[0m\u001b[0;34m)\u001b[0m\u001b[0;34m:\u001b[0m\u001b[0;34m\u001b[0m\u001b[0;34m\u001b[0m\u001b[0m\n\u001b[1;32m   1945\u001b[0m         \u001b[0;34m\"\"\"Handle special requirements of `.load()` protocol, usually up-converting older versions.\"\"\"\u001b[0m\u001b[0;34m\u001b[0m\u001b[0;34m\u001b[0m\u001b[0m\n\u001b[0;32m-> 1946\u001b[0;31m         \u001b[0msuper\u001b[0m\u001b[0;34m(\u001b[0m\u001b[0mWord2Vec\u001b[0m\u001b[0;34m,\u001b[0m \u001b[0mself\u001b[0m\u001b[0;34m)\u001b[0m\u001b[0;34m.\u001b[0m\u001b[0m_load_specials\u001b[0m\u001b[0;34m(\u001b[0m\u001b[0;34m*\u001b[0m\u001b[0margs\u001b[0m\u001b[0;34m,\u001b[0m \u001b[0;34m**\u001b[0m\u001b[0mkwargs\u001b[0m\u001b[0;34m)\u001b[0m\u001b[0;34m\u001b[0m\u001b[0;34m\u001b[0m\u001b[0m\n\u001b[0m\u001b[1;32m   1947\u001b[0m         \u001b[0;31m# for backward compatibility, add/rearrange properties from prior versions\u001b[0m\u001b[0;34m\u001b[0m\u001b[0;34m\u001b[0m\u001b[0;34m\u001b[0m\u001b[0m\n\u001b[1;32m   1948\u001b[0m         \u001b[0;32mif\u001b[0m \u001b[0;32mnot\u001b[0m \u001b[0mhasattr\u001b[0m\u001b[0;34m(\u001b[0m\u001b[0mself\u001b[0m\u001b[0;34m,\u001b[0m \u001b[0;34m'ns_exponent'\u001b[0m\u001b[0;34m)\u001b[0m\u001b[0;34m:\u001b[0m\u001b[0;34m\u001b[0m\u001b[0;34m\u001b[0m\u001b[0m\n",
      "\u001b[0;32m/Library/Frameworks/Python.framework/Versions/3.8/lib/python3.8/site-packages/gensim/utils.py\u001b[0m in \u001b[0;36m_load_specials\u001b[0;34m(self, fname, mmap, compress, subname)\u001b[0m\n\u001b[1;32m    515\u001b[0m             \u001b[0mlogger\u001b[0m\u001b[0;34m.\u001b[0m\u001b[0minfo\u001b[0m\u001b[0;34m(\u001b[0m\u001b[0;34m\"loading %s recursively from %s.* with mmap=%s\"\u001b[0m\u001b[0;34m,\u001b[0m \u001b[0mattrib\u001b[0m\u001b[0;34m,\u001b[0m \u001b[0mcfname\u001b[0m\u001b[0;34m,\u001b[0m \u001b[0mmmap\u001b[0m\u001b[0;34m)\u001b[0m\u001b[0;34m\u001b[0m\u001b[0;34m\u001b[0m\u001b[0m\n\u001b[1;32m    516\u001b[0m             \u001b[0;32mwith\u001b[0m \u001b[0mignore_deprecation_warning\u001b[0m\u001b[0;34m(\u001b[0m\u001b[0;34m)\u001b[0m\u001b[0;34m:\u001b[0m\u001b[0;34m\u001b[0m\u001b[0;34m\u001b[0m\u001b[0m\n\u001b[0;32m--> 517\u001b[0;31m                 \u001b[0mgetattr\u001b[0m\u001b[0;34m(\u001b[0m\u001b[0mself\u001b[0m\u001b[0;34m,\u001b[0m \u001b[0mattrib\u001b[0m\u001b[0;34m)\u001b[0m\u001b[0;34m.\u001b[0m\u001b[0m_load_specials\u001b[0m\u001b[0;34m(\u001b[0m\u001b[0mcfname\u001b[0m\u001b[0;34m,\u001b[0m \u001b[0mmmap\u001b[0m\u001b[0;34m,\u001b[0m \u001b[0mcompress\u001b[0m\u001b[0;34m,\u001b[0m \u001b[0msubname\u001b[0m\u001b[0;34m)\u001b[0m\u001b[0;34m\u001b[0m\u001b[0;34m\u001b[0m\u001b[0m\n\u001b[0m\u001b[1;32m    518\u001b[0m \u001b[0;34m\u001b[0m\u001b[0m\n\u001b[1;32m    519\u001b[0m         \u001b[0;32mfor\u001b[0m \u001b[0mattrib\u001b[0m \u001b[0;32min\u001b[0m \u001b[0mgetattr\u001b[0m\u001b[0;34m(\u001b[0m\u001b[0mself\u001b[0m\u001b[0;34m,\u001b[0m \u001b[0;34m'__numpys'\u001b[0m\u001b[0;34m,\u001b[0m \u001b[0;34m[\u001b[0m\u001b[0;34m]\u001b[0m\u001b[0;34m)\u001b[0m\u001b[0;34m:\u001b[0m\u001b[0;34m\u001b[0m\u001b[0;34m\u001b[0m\u001b[0m\n",
      "\u001b[0;32m/Library/Frameworks/Python.framework/Versions/3.8/lib/python3.8/site-packages/gensim/models/keyedvectors.py\u001b[0m in \u001b[0;36m_load_specials\u001b[0;34m(self, *args, **kwargs)\u001b[0m\n\u001b[1;32m    256\u001b[0m     \u001b[0;32mdef\u001b[0m \u001b[0m_load_specials\u001b[0m\u001b[0;34m(\u001b[0m\u001b[0mself\u001b[0m\u001b[0;34m,\u001b[0m \u001b[0;34m*\u001b[0m\u001b[0margs\u001b[0m\u001b[0;34m,\u001b[0m \u001b[0;34m**\u001b[0m\u001b[0mkwargs\u001b[0m\u001b[0;34m)\u001b[0m\u001b[0;34m:\u001b[0m\u001b[0;34m\u001b[0m\u001b[0;34m\u001b[0m\u001b[0m\n\u001b[1;32m    257\u001b[0m         \u001b[0;34m\"\"\"Handle special requirements of `.load()` protocol, usually up-converting older versions.\"\"\"\u001b[0m\u001b[0;34m\u001b[0m\u001b[0;34m\u001b[0m\u001b[0m\n\u001b[0;32m--> 258\u001b[0;31m         \u001b[0msuper\u001b[0m\u001b[0;34m(\u001b[0m\u001b[0mKeyedVectors\u001b[0m\u001b[0;34m,\u001b[0m \u001b[0mself\u001b[0m\u001b[0;34m)\u001b[0m\u001b[0;34m.\u001b[0m\u001b[0m_load_specials\u001b[0m\u001b[0;34m(\u001b[0m\u001b[0;34m*\u001b[0m\u001b[0margs\u001b[0m\u001b[0;34m,\u001b[0m \u001b[0;34m**\u001b[0m\u001b[0mkwargs\u001b[0m\u001b[0;34m)\u001b[0m\u001b[0;34m\u001b[0m\u001b[0;34m\u001b[0m\u001b[0m\n\u001b[0m\u001b[1;32m    259\u001b[0m         \u001b[0;32mif\u001b[0m \u001b[0mhasattr\u001b[0m\u001b[0;34m(\u001b[0m\u001b[0mself\u001b[0m\u001b[0;34m,\u001b[0m \u001b[0;34m'doctags'\u001b[0m\u001b[0;34m)\u001b[0m\u001b[0;34m:\u001b[0m\u001b[0;34m\u001b[0m\u001b[0;34m\u001b[0m\u001b[0m\n\u001b[1;32m    260\u001b[0m             \u001b[0mself\u001b[0m\u001b[0;34m.\u001b[0m\u001b[0m_upconvert_old_d2vkv\u001b[0m\u001b[0;34m(\u001b[0m\u001b[0;34m)\u001b[0m\u001b[0;34m\u001b[0m\u001b[0;34m\u001b[0m\u001b[0m\n",
      "\u001b[0;32m/Library/Frameworks/Python.framework/Versions/3.8/lib/python3.8/site-packages/gensim/utils.py\u001b[0m in \u001b[0;36m_load_specials\u001b[0;34m(self, fname, mmap, compress, subname)\u001b[0m\n\u001b[1;32m    526\u001b[0m                 \u001b[0mval\u001b[0m \u001b[0;34m=\u001b[0m \u001b[0mnp\u001b[0m\u001b[0;34m.\u001b[0m\u001b[0mload\u001b[0m\u001b[0;34m(\u001b[0m\u001b[0msubname\u001b[0m\u001b[0;34m(\u001b[0m\u001b[0mfname\u001b[0m\u001b[0;34m,\u001b[0m \u001b[0mattrib\u001b[0m\u001b[0;34m)\u001b[0m\u001b[0;34m)\u001b[0m\u001b[0;34m[\u001b[0m\u001b[0;34m'val'\u001b[0m\u001b[0;34m]\u001b[0m\u001b[0;34m\u001b[0m\u001b[0;34m\u001b[0m\u001b[0m\n\u001b[1;32m    527\u001b[0m             \u001b[0;32melse\u001b[0m\u001b[0;34m:\u001b[0m\u001b[0;34m\u001b[0m\u001b[0;34m\u001b[0m\u001b[0m\n\u001b[0;32m--> 528\u001b[0;31m                 \u001b[0mval\u001b[0m \u001b[0;34m=\u001b[0m \u001b[0mnp\u001b[0m\u001b[0;34m.\u001b[0m\u001b[0mload\u001b[0m\u001b[0;34m(\u001b[0m\u001b[0msubname\u001b[0m\u001b[0;34m(\u001b[0m\u001b[0mfname\u001b[0m\u001b[0;34m,\u001b[0m \u001b[0mattrib\u001b[0m\u001b[0;34m)\u001b[0m\u001b[0;34m,\u001b[0m \u001b[0mmmap_mode\u001b[0m\u001b[0;34m=\u001b[0m\u001b[0mmmap\u001b[0m\u001b[0;34m)\u001b[0m\u001b[0;34m\u001b[0m\u001b[0;34m\u001b[0m\u001b[0m\n\u001b[0m\u001b[1;32m    529\u001b[0m \u001b[0;34m\u001b[0m\u001b[0m\n\u001b[1;32m    530\u001b[0m             \u001b[0;32mwith\u001b[0m \u001b[0mignore_deprecation_warning\u001b[0m\u001b[0;34m(\u001b[0m\u001b[0;34m)\u001b[0m\u001b[0;34m:\u001b[0m\u001b[0;34m\u001b[0m\u001b[0;34m\u001b[0m\u001b[0m\n",
      "\u001b[0;32m/Library/Frameworks/Python.framework/Versions/3.8/lib/python3.8/site-packages/numpy/lib/npyio.py\u001b[0m in \u001b[0;36mload\u001b[0;34m(file, mmap_mode, allow_pickle, fix_imports, encoding)\u001b[0m\n\u001b[1;32m    415\u001b[0m             \u001b[0mown_fid\u001b[0m \u001b[0;34m=\u001b[0m \u001b[0;32mFalse\u001b[0m\u001b[0;34m\u001b[0m\u001b[0;34m\u001b[0m\u001b[0m\n\u001b[1;32m    416\u001b[0m         \u001b[0;32melse\u001b[0m\u001b[0;34m:\u001b[0m\u001b[0;34m\u001b[0m\u001b[0;34m\u001b[0m\u001b[0m\n\u001b[0;32m--> 417\u001b[0;31m             \u001b[0mfid\u001b[0m \u001b[0;34m=\u001b[0m \u001b[0mstack\u001b[0m\u001b[0;34m.\u001b[0m\u001b[0menter_context\u001b[0m\u001b[0;34m(\u001b[0m\u001b[0mopen\u001b[0m\u001b[0;34m(\u001b[0m\u001b[0mos_fspath\u001b[0m\u001b[0;34m(\u001b[0m\u001b[0mfile\u001b[0m\u001b[0;34m)\u001b[0m\u001b[0;34m,\u001b[0m \u001b[0;34m\"rb\"\u001b[0m\u001b[0;34m)\u001b[0m\u001b[0;34m)\u001b[0m\u001b[0;34m\u001b[0m\u001b[0;34m\u001b[0m\u001b[0m\n\u001b[0m\u001b[1;32m    418\u001b[0m             \u001b[0mown_fid\u001b[0m \u001b[0;34m=\u001b[0m \u001b[0;32mTrue\u001b[0m\u001b[0;34m\u001b[0m\u001b[0;34m\u001b[0m\u001b[0m\n\u001b[1;32m    419\u001b[0m \u001b[0;34m\u001b[0m\u001b[0m\n",
      "\u001b[0;31mFileNotFoundError\u001b[0m: [Errno 2] No such file or directory: 'models/model_w.wv.vectors.npy'"
     ]
    }
   ],
   "source": [
    "#load model\n",
    "model_w = Word2Vec.load(\"models/model_w\")\n",
    "\n",
    "#calculate g subspace\n",
    "g_wiki, g_wiki_2018 = run_gender_subspace_calcs(model_w, \"wiki\", [\"2018debias/2018debias_wiki_emb.txt\"])"
   ]
  },
  {
   "cell_type": "markdown",
   "metadata": {
    "id": "7ylrwq0MXxYN"
   },
   "source": [
    "### 4.2 - Direct Bias\n",
    "\n",
    "To measure direct bias, we will be using the equation from Bolukbasi et al. shown below. "
   ]
  },
  {
   "cell_type": "markdown",
   "metadata": {
    "id": "cI6_1ww2pDE1"
   },
   "source": [
    "<img src=\"img/Direct_Bias.png\" style=\"width:300px;float:left;\"/>"
   ]
  },
  {
   "cell_type": "markdown",
   "metadata": {
    "id": "oBrC38VkpDE1"
   },
   "source": [
    "We will use the same gender neutral words that have been collected from the paper which is \n",
    "denoted by N. As well, we will utilize the paper’s gender directions (vector from one word to another) \n",
    "which were verified by crowdsourcing. The gender subspace g will be the unit vector g that captures the\n",
    "gender directions, computed by principal components in the paper. Finally, we will consider c, which is the \n",
    "strictness of bias, as a hyperparameter in our experiment. "
   ]
  },
  {
   "cell_type": "code",
   "execution_count": 132,
   "metadata": {
    "id": "qc-4WChgpDE1",
    "outputId": "cced117f-befb-4e48-d27c-542cd3e53a09"
   },
   "outputs": [],
   "source": [
    "def calculate_direct_metric(gendered_word_set, model, c, g, model_type, vocab={}):\n",
    "    '''\n",
    "    calculate the direct bias using Bolukbasi et al.'s equation\n",
    "    '''\n",
    "    cosine_add = 0\n",
    "    for word in gendered_word_set:\n",
    "        cosine_add += np.abs(cos_sim(w_vec(word, model, model_type, vocab),g[0]))**c\n",
    "    \n",
    "    return cosine_add/len(gendered_word_set)\n",
    "    \n",
    "\n",
    "c = 1 #hyperparameter\n",
    "\n",
    "# Gendered word from Boulbalski et al. \n",
    "gendered_words = 'he, his, her, she, him, man, women, men, woman, spokesman, wife, himself, son, mother, father, chairman, daughter, husband, guy, girls, girl, boy, boys, brother, spokeswoman, female, sister, male, herself, brothers, dad, actress, mom, sons, girlfriend, daughters, lady, boyfriend, sisters, mothers, king, businessman, grandmother, grandfather, deer, ladies, uncle, males, congressman, grandson, bull, queen, businessmen, wives, widow, nephew, bride, females, aunt, prostate cancer, lesbian, chairwoman, fathers, moms, maiden, granddaughter, younger brother, lads, lion, gentleman, fraternity, bachelor, niece, bulls, husbands, prince, colt, salesman, hers, dude, beard, filly, princess, lesbians, councilman, actresses, gentlemen, stepfather, monks, ex girlfriend, lad, sperm, testosterone, nephews, maid, daddy, mare, fiance, fiancee, kings, dads, waitress, maternal, heroine, nieces, girlfriends, sir, stud, mistress, lions, estranged wife, womb, grandma, maternity, estrogen, ex boyfriend, widows, gelding, diva, teenage girls, nuns, czar, ovarian cancer, countrymen, teenage girl, penis, bloke, nun, brides, housewife, spokesmen, suitors, menopause, monastery, motherhood, brethren, stepmother, prostate, hostess, twin brother, schoolboy, brotherhood, fillies, stepson, congresswoman, uncles, witch, monk, viagra, paternity, suitor, sorority, macho, businesswoman, eldest son, gal, statesman, schoolgirl, fathered, goddess, hubby, stepdaughter, blokes, dudes, strongman, uterus, grandsons, studs, mama, godfather, hens, hen, mommy, estranged husband, elder brother, boyhood, baritone, grandmothers, grandpa, boyfriends, feminism, countryman, stallion, heiress, queens, witches, aunts, semen, fella, granddaughters, chap, widower, salesmen, convent, vagina, beau, beards, handyman, twin sister, maids, gals, housewives, horsemen, obstetrics, fatherhood, councilwoman, princes, matriarch, colts, ma, fraternities, pa, fellas, councilmen, dowry, barbershop, fraternal, ballerina'\n",
    "gendered_words = gendered_words.split(\", \")"
   ]
  },
  {
   "cell_type": "markdown",
   "metadata": {},
   "source": [
    "**Direct Metric for Gutenburg Models**"
   ]
  },
  {
   "cell_type": "code",
   "execution_count": 133,
   "metadata": {},
   "outputs": [
    {
     "name": "stdout",
     "output_type": "stream",
     "text": [
      "Direct metric gutenburg: 0.08597868991905432\n",
      "Direct metric gutenburg 2018 debias: 0.08232383582820692\n"
     ]
    }
   ],
   "source": [
    "#load models\n",
    "model_g = Word2Vec.load(\"models/model_g\")\n",
    "\n",
    "#genism\n",
    "gendered_word_set = check_w_embedding([gendered_words], model_g, False, 'genism')[0]\n",
    "print(\"Direct metric gutenburg:\", calculate_direct_metric(gendered_word_set, model_g, c, g_gutenburg, 'genism'))\n",
    "\n",
    "#2016 debiasing \n",
    "\n",
    "#2018 debiasing\n",
    "vocab2018 = read_debiased_embeddings('2018debias/2018debias_gutenberg_emb.txt')\n",
    "gendered_word_set_2018 = check_w_embedding([gendered_words], model_g, False, 'debias', vocab2018)[0]\n",
    "print(\"Direct metric gutenburg 2018 debias:\", calculate_direct_metric(gendered_word_set_2018, model_g, c, g_gutenburg_2018, 'debias', vocab2018))\n"
   ]
  },
  {
   "cell_type": "markdown",
   "metadata": {},
   "source": [
    "**Direct Metric for Wikipedia Models**"
   ]
  },
  {
   "cell_type": "code",
   "execution_count": 103,
   "metadata": {},
   "outputs": [
    {
     "ename": "NameError",
     "evalue": "name 'g_wiki' is not defined",
     "output_type": "error",
     "traceback": [
      "\u001b[0;31m---------------------------------------------------------------------------\u001b[0m",
      "\u001b[0;31mNameError\u001b[0m                                 Traceback (most recent call last)",
      "\u001b[0;32m/var/folders/yd/1xm7_bqn669bxvprqw9zpnxc0000gn/T/ipykernel_74440/2771574237.py\u001b[0m in \u001b[0;36m<module>\u001b[0;34m\u001b[0m\n\u001b[1;32m      4\u001b[0m \u001b[0;31m#genism\u001b[0m\u001b[0;34m\u001b[0m\u001b[0;34m\u001b[0m\u001b[0;34m\u001b[0m\u001b[0m\n\u001b[1;32m      5\u001b[0m \u001b[0mgendered_word_set\u001b[0m \u001b[0;34m=\u001b[0m \u001b[0mcheck_w_embedding\u001b[0m\u001b[0;34m(\u001b[0m\u001b[0;34m[\u001b[0m\u001b[0mgendered_words\u001b[0m\u001b[0;34m]\u001b[0m\u001b[0;34m,\u001b[0m \u001b[0mmodel_w\u001b[0m\u001b[0;34m,\u001b[0m \u001b[0;32mFalse\u001b[0m\u001b[0;34m,\u001b[0m \u001b[0;34m'genism'\u001b[0m\u001b[0;34m)\u001b[0m\u001b[0;34m[\u001b[0m\u001b[0;36m0\u001b[0m\u001b[0;34m]\u001b[0m\u001b[0;34m\u001b[0m\u001b[0;34m\u001b[0m\u001b[0m\n\u001b[0;32m----> 6\u001b[0;31m \u001b[0mprint\u001b[0m\u001b[0;34m(\u001b[0m\u001b[0;34m\"Direct metric wiki:\"\u001b[0m\u001b[0;34m,\u001b[0m \u001b[0mcalculate_direct_metric\u001b[0m\u001b[0;34m(\u001b[0m\u001b[0mgendered_word_set\u001b[0m\u001b[0;34m,\u001b[0m \u001b[0mmodel_w\u001b[0m\u001b[0;34m,\u001b[0m \u001b[0mc\u001b[0m\u001b[0;34m,\u001b[0m \u001b[0mg_wiki\u001b[0m\u001b[0;34m,\u001b[0m \u001b[0;34m'genism'\u001b[0m\u001b[0;34m)\u001b[0m\u001b[0;34m)\u001b[0m\u001b[0;34m\u001b[0m\u001b[0;34m\u001b[0m\u001b[0m\n\u001b[0m\u001b[1;32m      7\u001b[0m \u001b[0;34m\u001b[0m\u001b[0m\n\u001b[1;32m      8\u001b[0m \u001b[0;31m#2016 debiasing\u001b[0m\u001b[0;34m\u001b[0m\u001b[0;34m\u001b[0m\u001b[0;34m\u001b[0m\u001b[0m\n",
      "\u001b[0;31mNameError\u001b[0m: name 'g_wiki' is not defined"
     ]
    }
   ],
   "source": [
    "#load models\n",
    "model_w =  Word2Vec.load(\"models/model_g\")\n",
    "\n",
    "#genism\n",
    "gendered_word_set = check_w_embedding([gendered_words], model_w, False, 'genism')[0]\n",
    "print(\"Direct metric wiki:\", calculate_direct_metric(gendered_word_set, model_w, c, g_wiki, 'genism'))\n",
    "\n",
    "#2016 debiasing \n",
    "\n",
    "#2018 debiasing\n",
    "vocab2018 = read_debiased_embeddings('2018debias/2018debias_wiki_emb.txt')\n",
    "gendered_word_set_2018 = check_w_embedding([gendered_words], model_w, False, 'debias', vocab2018)[0]\n",
    "print(\"Direct metric wiki 2018 debias:\", calculate_direct_metric(gendered_word_set_2018, model_w, c, g_wiki_2018, 'debias', vocab2018))"
   ]
  },
  {
   "cell_type": "markdown",
   "metadata": {
    "id": "gMIUMyqsX57J"
   },
   "source": [
    "### 4.3 - Indirect Bias\n",
    "\n",
    "To measure indirect bias, we will be using the equation from Bolukbasi et al. shown below."
   ]
  },
  {
   "cell_type": "markdown",
   "metadata": {
    "id": "KrOSjUQspDE2"
   },
   "source": [
    "<img src=\"img/Indirect_Bias.png\" style=\"width:300px;float:left;\"/>"
   ]
  },
  {
   "cell_type": "markdown",
   "metadata": {
    "id": "6krHTKxepDE2"
   },
   "source": [
    "$w_{\\perp}$ is defined as $w_{\\perp} = w - w_{g}$ where $w_{g}=(w*g)*g$ as mentioned in the paper. We will be using the g subspace calculated above. As for the word pairs, we will run a few experiments. The first will be the most extreme words in the softball-football direction as mentioned in the paper. "
   ]
  },
  {
   "cell_type": "code",
   "execution_count": 194,
   "metadata": {
    "id": "kGyyr-NqpDE2",
    "outputId": "48e36e83-23b3-492e-9a74-eeac5e2bbe8c"
   },
   "outputs": [],
   "source": [
    "def calculate_indirect_metric(g, w, v):\n",
    "    wg = np.dot(np.dot(w,g[0]),g[0])\n",
    "    vg = np.dot(np.dot(v,g[0]),g[0])\n",
    "    w_norm_vec = w-wg\n",
    "    v_norm_vec = v-vg\n",
    "    w_norm = norm(w_norm_vec)\n",
    "    v_norm = norm(v_norm_vec)\n",
    "    \n",
    "    return (np.dot(w,v) - np.dot(w_norm_vec,v_norm_vec)/(w_norm*v_norm))/np.dot(w,v)\n",
    "\n",
    "def compare_indirect_metrics(words, c_word, model,g, model_type, vocab={}):\n",
    "    metrics=[]\n",
    "    for w in words:\n",
    "        metrics.append(calculate_indirect_metric(g, w_vec(c_word,model, model_type, vocab), w_vec(w,model, model_type, vocab)))\n",
    "    \n",
    "    return metrics\n",
    "\n",
    "def plot_indirect_metric(words, w, m, model, g_values, model_type, labels, txtfiles, colors):\n",
    "    fig, ax = plt.subplots(1,1) \n",
    "    \n",
    "    for i in range(len(labels)):\n",
    "        b_vals_w = []\n",
    "        b_vals_m = []\n",
    "        #calculate indirect beta values\n",
    "        if labels[i] == \"Original\": #first iteration\n",
    "            b_vals_w = compare_indirect_metrics(words, w, model, g_values[i], model_type)\n",
    "            b_vals_m = compare_indirect_metrics(words, m, model, g_values[i], model_type)\n",
    "        else:\n",
    "            vocab = read_debiased_embeddings(txtfiles[i-1])\n",
    "            b_vals_w = compare_indirect_metrics(words, w, model, g_values[i], \"debias\", vocab)\n",
    "            b_vals_m = compare_indirect_metrics(words, m, model, g_values[i], \"debias\", vocab)\n",
    "            \n",
    "    \n",
    "        #plot\n",
    "        ax.plot(range(1, len(words)+1), b_vals_w, marker='o', color = colors[i])\n",
    "        ax.plot(range(1, len(words)+1), b_vals_m, '--', marker='o', color = colors[i])\n",
    "        \n",
    "\n",
    "    ax.set_xticks(range(1, len(words_w)+1))\n",
    "    ax.set_xticklabels(words, rotation='horizontal', fontsize=10)\n",
    "    plt.ylabel('β values')\n",
    "    plt.xlabel('non-related words')\n",
    "    plt.title('Indirect metrics for '+ model_type+ \" models\")\n",
    "    \n",
    "    legend_labels =[]\n",
    "    for l in labels:\n",
    "        legend_labels.append(w + \" - \"+ l)\n",
    "        legend_labels.append(m + \" - \"+ l)\n",
    "        \n",
    "    ax.legend(legend_labels)\n",
    "    plt.show()\n",
    "    \n",
    "#Experiment- recreate Bolukbasi et al.'s experiement but with words available in the datasetss\n",
    "words_w= ['beauty', 'fashion', 'marriage', 'charm', 'nurse'] \n",
    "w = 'clean' \n",
    "words_m = ['paper', 'money', 'office', 'police', 'strength'] \n",
    "m = 'build'"
   ]
  },
  {
   "cell_type": "markdown",
   "metadata": {},
   "source": [
    "**Indirect Metric for Gutenburg Models**"
   ]
  },
  {
   "cell_type": "code",
   "execution_count": 197,
   "metadata": {},
   "outputs": [
    {
     "data": {
      "image/png": "[encoded data removed]",
      "text/plain": [
       "<Figure size 432x288 with 1 Axes>"
      ]
     },
     "metadata": {
      "needs_background": "light"
     },
     "output_type": "display_data"
    },
    {
     "data": {
      "image/png": "[encoded data removed]",
      "text/plain": [
       "<Figure size 432x288 with 1 Axes>"
      ]
     },
     "metadata": {
      "needs_background": "light"
     },
     "output_type": "display_data"
    }
   ],
   "source": [
    "#load models\n",
    "model_g = Word2Vec.load(\"models/model_g\")\n",
    "\n",
    "#check that all models contain the experiment words\n",
    "words_w, words_m, [w, m] = check_w_embedding([words_w, words_m, [w, m]], model_g, True, 'genism')\n",
    "\n",
    "#female correlated words\n",
    "plot_indirect_metric(words_w, w, m, model_g, [g_gutenburg, g_gutenburg_2018], 'genism', ['Original', '2018 Debiasing'], [\"2018debias/2018debias_gutenberg_emb.txt\"], [\"Pink\", \"Red\"])\n",
    "\n",
    "#male correlated words\n",
    "plot_indirect_metric(words_m, w, m, model_g, [g_gutenburg, g_gutenburg_2018], 'genism', ['Original', '2018 Debiasing'], [\"2018debias/2018debias_gutenberg_emb.txt\"], [\"Blue\", \"Green\"])\n"
   ]
  },
  {
   "cell_type": "markdown",
   "metadata": {},
   "source": [
    "**Indirect Metric for Wikipedia Models**"
   ]
  },
  {
   "cell_type": "code",
   "execution_count": null,
   "metadata": {},
   "outputs": [],
   "source": [
    "#load models\n",
    "model_g = Word2Vec.load(\"models/model_w\")\n",
    "\n",
    "#check that all models contain the experiment words\n",
    "words_w, words_m, [w, m] = check_w_embedding([words_w, words_m, [w, m]], model_w, True, 'wiki')\n",
    "\n",
    "#female correlated words\n",
    "plot_indirect_metric(words_w, w, m, model_w, [g_wiki, g_wiki_2018], 'genism', ['Original', '2018 Debiasing'], [\"2018debias/2018debias_gutenberg_emb.txt\"], [\"Pink\", \"Red\"])\n",
    "\n",
    "#male correlated words\n",
    "plot_indirect_metric(words_m, w, m, model_w, [g_wiki, g_wiki_2018], 'genism', ['Original', '2018 Debiasing'], [\"2018debias/2018debias_gutenberg_emb.txt\"], [\"Blue\", \"Green\"])\n"
   ]
  },
  {
   "cell_type": "markdown",
   "metadata": {
    "id": "UOv0RFFOX9NP"
   },
   "source": [
    "### 4.4 - WEAT Metric\n",
    "\n",
    "To measure WEAT, we used the formula defined in Caliskan et al., which is an additional direct bias measure. "
   ]
  },
  {
   "cell_type": "markdown",
   "metadata": {
    "id": "OfIcsZSepDE3"
   },
   "source": [
    "<img src=\"img/WEAT.png\" style=\"width:300px;float:left;\"/>"
   ]
  },
  {
   "cell_type": "code",
   "execution_count": 198,
   "metadata": {
    "id": "QNYpB3AopDE3"
   },
   "outputs": [],
   "source": [
    "def s_word_A_B(w,A,B,model, model_type, vocab):\n",
    "    mean_A_sum = 0\n",
    "    mean_B_sum = 0\n",
    "    w_v = w_vec(w,model, model_type, vocab)\n",
    "    \n",
    "    for a in A:\n",
    "        a_vec = w_vec(a,model, model_type, vocab)\n",
    "        mean_A_sum +=cos_sim(w_v,a_vec)\n",
    "    \n",
    "    for b in B:\n",
    "        b_vec = w_vec(b,model, model_type, vocab)\n",
    "        mean_B_sum +=cos_sim(w_v,b_vec)\n",
    "        \n",
    "    return mean_A_sum/len(A) - mean_B_sum/len(B)\n",
    "\n",
    "def s_X_Y_A_B(X,Y,A,B,model, model_type, vocab={}):\n",
    "    sum_X = 0\n",
    "    sum_Y = 0\n",
    "    \n",
    "    for x in X:\n",
    "        sum_X += s_word_A_B(x,A,B,model, model_type, vocab)\n",
    "        \n",
    "    for y in Y:\n",
    "        sum_Y += s_word_A_B(y,A,B,model, model_type, vocab)\n",
    "    \n",
    "    return sum_X - sum_Y"
   ]
  },
  {
   "cell_type": "markdown",
   "metadata": {
    "id": "e16kg8Z6pDE3"
   },
   "source": [
    "Now, lets run experiments on the models <br>\n",
    "A and B are the attribute word groups (8 words each), and X,Y are the target words"
   ]
  },
  {
   "cell_type": "code",
   "execution_count": 199,
   "metadata": {
    "id": "z3OwU4I6pDE3",
    "outputId": "a7c7a064-6be0-4af6-ef77-d450677946e1"
   },
   "outputs": [],
   "source": [
    "#Experiment 1 - work/family\n",
    "A = ['tie', 'manage', 'work', 'paper', 'money', 'office', 'business', 'meeting']\n",
    "B = ['home', 'parents', 'children', 'family', 'sister', 'marriage', 'charm', 'clean']\n",
    "X = ['he', 'him']\n",
    "Y = ['she', 'her'] \n",
    "\n",
    "#Experiment 2 - professions\n",
    "A_2 = ['police', 'manage', 'business', 'lawyer', 'officer', 'science', 'build', 'fire']\n",
    "B_2 = ['teacher', 'clean', 'social', 'hair', 'art', 'make', 'writer', 'library'] \n"
   ]
  },
  {
   "cell_type": "markdown",
   "metadata": {},
   "source": [
    "**WEAT Metric for Gutenburg Models**"
   ]
  },
  {
   "cell_type": "code",
   "execution_count": 204,
   "metadata": {
    "id": "yRdeOsV4pDE4"
   },
   "outputs": [
    {
     "name": "stdout",
     "output_type": "stream",
     "text": [
      "---------Genism-------------\n",
      "WEAT Exp 1: 0.17949908575974405\n",
      "WEAT Exp 2: 0.09589393716305494\n",
      "---------2018 Debiasing-------------\n",
      "WEAT Exp 1: 0.15221834486977004\n",
      "WEAT Exp 2: 0.09102151140409755\n"
     ]
    }
   ],
   "source": [
    "#load models\n",
    "model_g = Word2Vec.load(\"models/model_g\")\n",
    "\n",
    "print (\"---------Genism-------------\")\n",
    "A_g,B_g,X_g,Y_g,A_2_g,B_2_g = check_w_embedding([A,B,X,Y, A_2,B_2], model_g, True, 'genism')\n",
    "print (\"WEAT Exp 1:\", s_X_Y_A_B(X_g,Y_g,A_g,B_g,model_g, 'genism'))\n",
    "print (\"WEAT Exp 2:\", s_X_Y_A_B(X_g,Y_g,A_2_g,B_2_g,model_g, 'genism'))\n",
    "\n",
    "print (\"---------2018 Debiasing-------------\")\n",
    "vocab2018 = read_debiased_embeddings(\"2018debias/2018debias_gutenberg_emb.txt\")\n",
    "A_g_2018,B_g_2018,X_g_2018,Y_g_2018,A_2_g_2018,B_2_g_2018 = check_w_embedding([A,B,X,Y, A_2,B_2], model_g, True, 'debias', vocab2018)\n",
    "print (\"WEAT Exp 1:\", s_X_Y_A_B(X_g_2018,Y_g_2018,A_g_2018,B_g_2018,model_g, 'debias', vocab2018))\n",
    "print (\"WEAT Exp 2:\", s_X_Y_A_B(X_g_2018,Y_g_2018,A_2_g_2018,B_2_g_2018,model_g, 'debias', vocab2018))\n"
   ]
  },
  {
   "cell_type": "markdown",
   "metadata": {},
   "source": [
    "**WEAT Metric for Wikipedia Models**"
   ]
  },
  {
   "cell_type": "code",
   "execution_count": null,
   "metadata": {},
   "outputs": [],
   "source": [
    "#load models\n",
    "model_w = Word2Vec.load(\"models/model_w\")\n",
    "\n",
    "print (\"---------Genism-------------\")\n",
    "A_w,B_w,X_w,Y_w,A_2_w,B_2_w = check_w_embedding([A,B,X,Y,A_2,B_2], model_w, True, 'wiki')\n",
    "print (\"WEAT Exp 1:\", s_X_Y_A_B(X_w,Y_w,A_w,B_w,model_w, 'wiki'))\n",
    "print (\"WEAT Exp 2:\", s_X_Y_A_B(X_w,Y_w,A_2_w,B_2_w,model_w, 'wiki'))\n",
    "\n",
    "print (\"---------2018 Debiasing-------------\")\n",
    "vocab2018 = read_debiased_embeddings(\"2018debias/2018debias_gutenberg_emb.txt\")\n",
    "A_w_2018,B_w_2018,X_w_2018,Y_w_2018,A_2_w_2018,B_2_w_2018 = check_w_embedding([A,B,X,Y,A_2,B_2], model_w, True, 'debias', vocab2018)\n",
    "print (\"WEAT Exp 1:\", s_X_Y_A_B(X_w_2018,Y_w_2018,A_w_2018,B_w,model_w_2018, 'debias', vocab2018))\n",
    "print (\"WEAT Exp 2:\", s_X_Y_A_B(X_w_2018,Y_w_2018,A_2_w_2018,B_2_w_2018,model_w, 'debias', vocab2018))\n"
   ]
  }
 ],
 "metadata": {
  "accelerator": "GPU",
  "colab": {
   "collapsed_sections": [],
   "name": "Word2Vec Model and Bias Measurements.ipynb",
   "provenance": []
  },
  "kernelspec": {
   "display_name": "Python 3 (ipykernel)",
   "language": "python",
   "name": "python3"
  },
  "language_info": {
   "codemirror_mode": {
    "name": "ipython",
    "version": 3
   },
   "file_extension": ".py",
   "mimetype": "text/x-python",
   "name": "python",
   "nbconvert_exporter": "python",
   "pygments_lexer": "ipython3",
   "version": "3.8.7"
  }
 },
 "nbformat": 4,
 "nbformat_minor": 1
}
