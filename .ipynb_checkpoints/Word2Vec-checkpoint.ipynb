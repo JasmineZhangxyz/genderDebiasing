{
 "cells": [
  {
   "cell_type": "markdown",
   "metadata": {
    "id": "5XP3YOprVwyX"
   },
   "source": [
    "# Exploring Gender Biases in Word2vec <br> \n",
    "\n",
    "Write a short intro here \n"
   ]
  },
  {
   "cell_type": "code",
   "execution_count": 20,
   "metadata": {
    "id": "h4LSSjBdfJhI"
   },
   "outputs": [],
   "source": [
    "#Imports\n",
    "import torch\n",
    "from torch import nn, optim, sigmoid, softmax\n",
    "from torch.utils.data import DataLoader\n",
    "from torchtext.data.utils import get_tokenizer\n",
    "import string\n",
    "import numpy as np\n",
    "\n",
    "from gutenberg_data import get_urls, read_data_from_urls\n"
   ]
  },
  {
   "cell_type": "markdown",
   "metadata": {
    "id": "xhIMaI4vV8VI"
   },
   "source": [
    "## 1- Define Word2Vec Model "
   ]
  },
  {
   "cell_type": "code",
   "execution_count": null,
   "metadata": {
    "id": "M_N-TJuHYrQu"
   },
   "outputs": [],
   "source": [
    "# NOTES:\n",
    "# inspiration: https://github.com/OlgaChernytska/word2vec-pytorch\n",
    "# We are using the skip gram method because it works better on smaller data sets (which we are limited to), source -  https://arxiv.org/pdf/1301.3781.pdf \n",
    "# Skim-gram predicts a context word from a given middle word in the sentance.\n",
    "# Use adam optimizer (better than SGD) - source: _______\n",
    "# Applying regularization to our embedding layer: clamping each weiaght vector of each neuron to |w| < 1 ( via max_norm ==1) - prevent exploding gradients\n",
    "  #the norm restrictions also helps push cosine similarity between words (which we will use to analyze bias)\n",
    "\n"
   ]
  },
  {
   "cell_type": "markdown",
   "metadata": {
    "id": "2dZQVHEbmQLT"
   },
   "source": [
    "**Create Tokens** <br>\n",
    "\n",
    "Justifications:\n",
    "\n",
    "- punctuation: remove - source : ______________\n",
    "- lowercase words - because we are only looking at biasis between male/female"
   ]
  },
  {
   "cell_type": "code",
   "execution_count": 6,
   "metadata": {
    "id": "RzDntNYcmVec"
   },
   "outputs": [],
   "source": [
    "def create_tokens(data, min_freq):\n",
    "    \"\"\"\n",
    "    create_vocabulary finds the number of occurences of each word, creates vocuabulary with words with > N_freq, and lebels them with ids\n",
    "\n",
    "    :param data: list of strings\n",
    "    :return: a list of tokens \n",
    "    \"\"\" \n",
    "    tokens = []\n",
    "    for sentance in data:\n",
    "      #split into tokens, convert to lowercase \n",
    "      sentance = sentance.translate(str.maketrans('', '', string.punctuation)) #remove punctuations\n",
    "      sentance = sentance.translate(str.maketrans('', '', string.digits)) #remove digits\n",
    "      tokenizer = get_tokenizer(\"basic_english\", language=\"en\") #remove unessasary characters, splits into spaces\n",
    "      tokens.append(tokenizer(sentance))\n",
    "  \n",
    "    return tokens\n",
    "  "
   ]
  },
  {
   "cell_type": "markdown",
   "metadata": {
    "id": "vADvrY8rDeuq"
   },
   "source": [
    "**Define word 2 vec model** <br>\n",
    "\n",
    "- choosing the top N most frequent words - why? so its easier to train - and not wasting time to train words that appear once in a text sequence. "
   ]
  },
  {
   "cell_type": "code",
   "execution_count": 15,
   "metadata": {},
   "outputs": [
    {
     "name": "stdout",
     "output_type": "stream",
     "text": [
      "<class 'bytes'>\n"
     ]
    }
   ],
   "source": [
    "# get test data so far\n",
    "test_urls = get_urls('test')\n",
    "test_data = read_data_from_urls(test_urls)\n",
    "test_data=str(test_data[0]).split('.')"
   ]
  },
  {
   "cell_type": "code",
   "execution_count": 32,
   "metadata": {},
   "outputs": [
    {
     "name": "stdout",
     "output_type": "stream",
     "text": [
      "vector:  [-0.01934966  0.02206504  0.00863493  0.01067936 -0.00898326 -0.0374633\n",
      "  0.02321661  0.06989765 -0.03668785 -0.02110951 -0.01050953 -0.0372959\n",
      " -0.0215446   0.02515106  0.00053693 -0.00945899  0.00673389 -0.02499474\n",
      " -0.00661979 -0.07524779  0.00928948 -0.01175742  0.0272954  -0.00981426\n",
      "  0.00046778 -0.00320413 -0.02665326  0.01585514 -0.02344807 -0.00438366\n",
      "  0.00574462 -0.00563709  0.00989365 -0.03195842 -0.01692033  0.02129436\n",
      "  0.02003792 -0.00037812 -0.0092746  -0.03054461  0.01362015 -0.02052188\n",
      " -0.04226055 -0.00091432  0.01130267 -0.01472709 -0.01118604 -0.00092054\n",
      "  0.03231912  0.02644308  0.01625802 -0.0295663   0.00539376 -0.01812951\n",
      "  0.00504277  0.01952383  0.02790592 -0.02078256 -0.03180978  0.02154983\n",
      " -0.00816618  0.01007094  0.00425148  0.00194174 -0.01872789  0.02897028\n",
      "  0.00520065  0.00953417 -0.04318975  0.02830085  0.00088422  0.02208884\n",
      "  0.02560173  0.00512074  0.03490136  0.0060445  -0.00786666  0.00962104\n",
      " -0.01055882 -0.01485148 -0.0261148   0.00853635 -0.01821193  0.0211999\n",
      " -0.00505797 -0.0143839  -0.00043351  0.0172714   0.04044328  0.00276358\n",
      "  0.03897422  0.01868874  0.01002726 -0.0150965   0.03065235  0.01946725\n",
      "  0.00522628 -0.03124006 -0.01082996  0.0006824 ]\n",
      "[('dozen', 0.9663496613502502), ('appeared', 0.9662570953369141), ('while', 0.9656170606613159), ('right', 0.9653664827346802), ('seen', 0.9652391672134399), ('received', 0.9651140570640564), ('prominent', 0.9649257659912109), ('later', 0.9648840427398682), ('line', 0.9648690223693848), ('few', 0.9648675322532654)]\n"
     ]
    },
    {
     "ename": "NameError",
     "evalue": "name 'wv' is not defined",
     "output_type": "error",
     "traceback": [
      "\u001b[0;31m---------------------------------------------------------------------------\u001b[0m",
      "\u001b[0;31mNameError\u001b[0m                                 Traceback (most recent call last)",
      "\u001b[0;32m/var/folders/yd/1xm7_bqn669bxvprqw9zpnxc0000gn/T/ipykernel_90481/137709523.py\u001b[0m in \u001b[0;36m<module>\u001b[0;34m\u001b[0m\n\u001b[1;32m     16\u001b[0m \u001b[0mprint\u001b[0m\u001b[0;34m(\u001b[0m\u001b[0msims\u001b[0m\u001b[0;34m)\u001b[0m\u001b[0;34m\u001b[0m\u001b[0;34m\u001b[0m\u001b[0m\n\u001b[1;32m     17\u001b[0m \u001b[0;34m\u001b[0m\u001b[0m\n\u001b[0;32m---> 18\u001b[0;31m \u001b[0mcosine_sim\u001b[0m \u001b[0;34m=\u001b[0m \u001b[0mwv\u001b[0m\u001b[0;34m.\u001b[0m\u001b[0msimilarity\u001b[0m\u001b[0;34m(\u001b[0m\u001b[0;34m'france'\u001b[0m\u001b[0;34m,\u001b[0m \u001b[0;34m'spain'\u001b[0m\u001b[0;34m)\u001b[0m\u001b[0;34m\u001b[0m\u001b[0;34m\u001b[0m\u001b[0m\n\u001b[0m\u001b[1;32m     19\u001b[0m \u001b[0mprint\u001b[0m\u001b[0;34m(\u001b[0m\u001b[0mcosine_sim\u001b[0m\u001b[0;34m)\u001b[0m\u001b[0;34m\u001b[0m\u001b[0;34m\u001b[0m\u001b[0m\n\u001b[1;32m     20\u001b[0m \u001b[0;34m\u001b[0m\u001b[0m\n",
      "\u001b[0;31mNameError\u001b[0m: name 'wv' is not defined"
     ]
    }
   ],
   "source": [
    "from gensim.models import Word2Vec\n",
    "min_freq = 50\n",
    "\n",
    "sentences = create_tokens(test_data, min_freq)\n",
    "\n",
    "model = Word2Vec(min_count=1)\n",
    "model.build_vocab(sentences)  # prepare the model vocabulary\n",
    "model.train(sentences, total_examples=model.corpus_count, epochs=model.epochs)  # train word vectors\n",
    "\n",
    "\n",
    "#WORD2VEC TUTORIAL (operations):\n",
    "vector_comp = model.wv['she']\n",
    "print(\"vector: \", vector_comp)\n",
    "\n",
    "sims = model.wv.most_similar('she', topn=10)  # get other similar words\n",
    "print(sims)\n",
    "\n",
    "cosine_sim = model.wv.similarity('france', 'spain')\n",
    "print(cosine_sim)\n",
    "\n",
    "\n",
    "#https://radimrehurek.com/gensim/models/word2vec.html?fbclid=IwAR0yK8_da0wQdA1jCofwIfOR42Kj4mSVvxTsPG4RS8ckai-s6-YvmyrRFRs#gensim.models.word2vec.Word2Vec"
   ]
  },
  {
   "cell_type": "markdown",
   "metadata": {
    "id": "WWgVrNeBWOBN"
   },
   "source": [
    "## 2 - Create Data sets with wiki and ArXiv from the Pile"
   ]
  },
  {
   "cell_type": "markdown",
   "metadata": {
    "id": "-z0JAJ0hWSbn"
   },
   "source": [
    "## 3 - Debiasing Techniques\n"
   ]
  },
  {
   "cell_type": "markdown",
   "metadata": {
    "id": "H6OY3VjTWaDg"
   },
   "source": [
    "### 3.1 - Zhao et al.'s Method Using an Objective Function with Catigorized Words\n"
   ]
  },
  {
   "cell_type": "markdown",
   "metadata": {
    "id": "RCG9qkIWV7tx"
   },
   "source": [
    "### 3.2 - Bolukbasi et al.'s Soft-debaising Method"
   ]
  },
  {
   "cell_type": "markdown",
   "metadata": {
    "id": "WciX25tQW-lm"
   },
   "source": [
    "### 3.3 - Savani et al.'s First Order Optimization"
   ]
  },
  {
   "cell_type": "markdown",
   "metadata": {
    "id": "L9jws4VUXiuh"
   },
   "source": [
    "## 4 - Measuring Bias"
   ]
  },
  {
   "cell_type": "markdown",
   "metadata": {
    "id": "7ylrwq0MXxYN"
   },
   "source": [
    "### 4.1 - Direct Bias"
   ]
  },
  {
   "cell_type": "markdown",
   "metadata": {
    "id": "gMIUMyqsX57J"
   },
   "source": [
    "### 4.2 - Indirect Bias\n",
    "\n",
    "\n",
    "For indirect bias, we can define the gender component of words, β(w, v), by defining wg , the contribution from gender, and w⊥ = w −wg, where the word vectors w are unit normal. The equation for β(w, v) from Bolukbasi et al.  is shown below. \n",
    "\t\t\t\t(w, v)= (wv - wv||w||2||v||2)/(wv)\n",
    "Larger β(w, v) suggest similarity of embeddings that have no relation (softball and receptionist) which can be largely explained by gender biases in the embedding. Furthermore, to visualize these similarities, we can use k-means to split the embeddings into clusters and analyze the indirect bias that way, as was done in Gohen et al. \n",
    "\n",
    "wg = (w · g)g\n"
   ]
  },
  {
   "cell_type": "code",
   "execution_count": null,
   "metadata": {},
   "outputs": [],
   "source": [
    "def calculate_indirect_metric(g, w, v):\n",
    "    wg= np.dot(np.dot(w,g),g)\n",
    "    vg = np.dot(np.dot(v,g),g)\n",
    "    w_norm_vec = w-wg\n",
    "    v_norm_vec =v-vg\n",
    "    w_norm = np.linalg.norm(w_norm_vec)\n",
    "    v_norm = np.linalg.norm(v_norm_vec)\n",
    "    \n",
    "    return (np.dot(w,v) - np.dot(w_norm_vec,v_norm_vec)/(w_norm*v_norm))/np.dot(w,v)\n",
    "\n",
    "\n",
    "#need to define w, v words which we want to calulate this metric on (in a loop)\n",
    "    "
   ]
  },
  {
   "cell_type": "markdown",
   "metadata": {
    "id": "UOv0RFFOX9NP"
   },
   "source": [
    "### 4.3 - WEAT Metric"
   ]
  },
  {
   "cell_type": "code",
   "execution_count": null,
   "metadata": {},
   "outputs": [],
   "source": []
  },
  {
   "cell_type": "markdown",
   "metadata": {
    "id": "HdJYBL_NYBmd"
   },
   "source": [
    "## 5 - Comparison and Conclusions"
   ]
  }
 ],
 "metadata": {
  "colab": {
   "collapsed_sections": [],
   "name": "Part1-Data-Collection-and-Word2Vec.ipynb",
   "provenance": []
  },
  "kernelspec": {
   "display_name": "Python 3 (ipykernel)",
   "language": "python",
   "name": "python3"
  },
  "language_info": {
   "codemirror_mode": {
    "name": "ipython",
    "version": 3
   },
   "file_extension": ".py",
   "mimetype": "text/x-python",
   "name": "python",
   "nbconvert_exporter": "python",
   "pygments_lexer": "ipython3",
   "version": "3.8.7"
  },
  "widgets": {
   "application/vnd.jupyter.widget-state+json": {
    "240a2851180c468cab17cc15f43791a9": {
     "model_module": "@jupyter-widgets/base",
     "model_module_version": "1.2.0",
     "model_name": "LayoutModel",
     "state": {
      "_model_module": "@jupyter-widgets/base",
      "_model_module_version": "1.2.0",
      "_model_name": "LayoutModel",
      "_view_count": null,
      "_view_module": "@jupyter-widgets/base",
      "_view_module_version": "1.2.0",
      "_view_name": "LayoutView",
      "align_content": null,
      "align_items": null,
      "align_self": null,
      "border": null,
      "bottom": null,
      "display": null,
      "flex": null,
      "flex_flow": null,
      "grid_area": null,
      "grid_auto_columns": null,
      "grid_auto_flow": null,
      "grid_auto_rows": null,
      "grid_column": null,
      "grid_gap": null,
      "grid_row": null,
      "grid_template_areas": null,
      "grid_template_columns": null,
      "grid_template_rows": null,
      "height": null,
      "justify_content": null,
      "justify_items": null,
      "left": null,
      "margin": null,
      "max_height": null,
      "max_width": null,
      "min_height": null,
      "min_width": null,
      "object_fit": null,
      "object_position": null,
      "order": null,
      "overflow": null,
      "overflow_x": null,
      "overflow_y": null,
      "padding": null,
      "right": null,
      "top": null,
      "visibility": null,
      "width": null
     }
    },
    "3e22f9386fc2478494dc1a2a9077d544": {
     "model_module": "@jupyter-widgets/controls",
     "model_module_version": "1.5.0",
     "model_name": "FloatProgressModel",
     "state": {
      "_dom_classes": [],
      "_model_module": "@jupyter-widgets/controls",
      "_model_module_version": "1.5.0",
      "_model_name": "FloatProgressModel",
      "_view_count": null,
      "_view_module": "@jupyter-widgets/controls",
      "_view_module_version": "1.5.0",
      "_view_name": "ProgressView",
      "bar_style": "",
      "description": "",
      "description_tooltip": null,
      "layout": "IPY_MODEL_969dc2e4063943f18d5f138d173333de",
      "max": 258,
      "min": 0,
      "orientation": "horizontal",
      "style": "IPY_MODEL_8500834904d44de09d0be9b0ee202ba8",
      "value": 2
     }
    },
    "4f5b651b60e9480c845e33e7e56879cf": {
     "model_module": "@jupyter-widgets/controls",
     "model_module_version": "1.5.0",
     "model_name": "HTMLModel",
     "state": {
      "_dom_classes": [],
      "_model_module": "@jupyter-widgets/controls",
      "_model_module_version": "1.5.0",
      "_model_name": "HTMLModel",
      "_view_count": null,
      "_view_module": "@jupyter-widgets/controls",
      "_view_module_version": "1.5.0",
      "_view_name": "HTMLView",
      "description": "",
      "description_tooltip": null,
      "layout": "IPY_MODEL_5b219d7af4654b309567abf230396944",
      "placeholder": "​",
      "style": "IPY_MODEL_970db59cdc1a41069843c019cd26edef",
      "value": "Dl Completed...:   0%"
     }
    },
    "5b219d7af4654b309567abf230396944": {
     "model_module": "@jupyter-widgets/base",
     "model_module_version": "1.2.0",
     "model_name": "LayoutModel",
     "state": {
      "_model_module": "@jupyter-widgets/base",
      "_model_module_version": "1.2.0",
      "_model_name": "LayoutModel",
      "_view_count": null,
      "_view_module": "@jupyter-widgets/base",
      "_view_module_version": "1.2.0",
      "_view_name": "LayoutView",
      "align_content": null,
      "align_items": null,
      "align_self": null,
      "border": null,
      "bottom": null,
      "display": null,
      "flex": null,
      "flex_flow": null,
      "grid_area": null,
      "grid_auto_columns": null,
      "grid_auto_flow": null,
      "grid_auto_rows": null,
      "grid_column": null,
      "grid_gap": null,
      "grid_row": null,
      "grid_template_areas": null,
      "grid_template_columns": null,
      "grid_template_rows": null,
      "height": null,
      "justify_content": null,
      "justify_items": null,
      "left": null,
      "margin": null,
      "max_height": null,
      "max_width": null,
      "min_height": null,
      "min_width": null,
      "object_fit": null,
      "object_position": null,
      "order": null,
      "overflow": null,
      "overflow_x": null,
      "overflow_y": null,
      "padding": null,
      "right": null,
      "top": null,
      "visibility": null,
      "width": null
     }
    },
    "8500834904d44de09d0be9b0ee202ba8": {
     "model_module": "@jupyter-widgets/controls",
     "model_module_version": "1.5.0",
     "model_name": "ProgressStyleModel",
     "state": {
      "_model_module": "@jupyter-widgets/controls",
      "_model_module_version": "1.5.0",
      "_model_name": "ProgressStyleModel",
      "_view_count": null,
      "_view_module": "@jupyter-widgets/base",
      "_view_module_version": "1.2.0",
      "_view_name": "StyleView",
      "bar_color": null,
      "description_width": ""
     }
    },
    "969dc2e4063943f18d5f138d173333de": {
     "model_module": "@jupyter-widgets/base",
     "model_module_version": "1.2.0",
     "model_name": "LayoutModel",
     "state": {
      "_model_module": "@jupyter-widgets/base",
      "_model_module_version": "1.2.0",
      "_model_name": "LayoutModel",
      "_view_count": null,
      "_view_module": "@jupyter-widgets/base",
      "_view_module_version": "1.2.0",
      "_view_name": "LayoutView",
      "align_content": null,
      "align_items": null,
      "align_self": null,
      "border": null,
      "bottom": null,
      "display": null,
      "flex": null,
      "flex_flow": null,
      "grid_area": null,
      "grid_auto_columns": null,
      "grid_auto_flow": null,
      "grid_auto_rows": null,
      "grid_column": null,
      "grid_gap": null,
      "grid_row": null,
      "grid_template_areas": null,
      "grid_template_columns": null,
      "grid_template_rows": null,
      "height": null,
      "justify_content": null,
      "justify_items": null,
      "left": null,
      "margin": null,
      "max_height": null,
      "max_width": null,
      "min_height": null,
      "min_width": null,
      "object_fit": null,
      "object_position": null,
      "order": null,
      "overflow": null,
      "overflow_x": null,
      "overflow_y": null,
      "padding": null,
      "right": null,
      "top": null,
      "visibility": null,
      "width": null
     }
    },
    "970db59cdc1a41069843c019cd26edef": {
     "model_module": "@jupyter-widgets/controls",
     "model_module_version": "1.5.0",
     "model_name": "DescriptionStyleModel",
     "state": {
      "_model_module": "@jupyter-widgets/controls",
      "_model_module_version": "1.5.0",
      "_model_name": "DescriptionStyleModel",
      "_view_count": null,
      "_view_module": "@jupyter-widgets/base",
      "_view_module_version": "1.2.0",
      "_view_name": "StyleView",
      "description_width": ""
     }
    },
    "caf89f119045469380dba06fc031adb6": {
     "model_module": "@jupyter-widgets/controls",
     "model_module_version": "1.5.0",
     "model_name": "DescriptionStyleModel",
     "state": {
      "_model_module": "@jupyter-widgets/controls",
      "_model_module_version": "1.5.0",
      "_model_name": "DescriptionStyleModel",
      "_view_count": null,
      "_view_module": "@jupyter-widgets/base",
      "_view_module_version": "1.2.0",
      "_view_name": "StyleView",
      "description_width": ""
     }
    },
    "df152c5f868e49f386d7ca98ae3f2ade": {
     "model_module": "@jupyter-widgets/controls",
     "model_module_version": "1.5.0",
     "model_name": "HBoxModel",
     "state": {
      "_dom_classes": [],
      "_model_module": "@jupyter-widgets/controls",
      "_model_module_version": "1.5.0",
      "_model_name": "HBoxModel",
      "_view_count": null,
      "_view_module": "@jupyter-widgets/controls",
      "_view_module_version": "1.5.0",
      "_view_name": "HBoxView",
      "box_style": "",
      "children": [
       "IPY_MODEL_4f5b651b60e9480c845e33e7e56879cf",
       "IPY_MODEL_3e22f9386fc2478494dc1a2a9077d544",
       "IPY_MODEL_fa3ac15869974b3db2485239612e9a55"
      ],
      "layout": "IPY_MODEL_e8c31b3622284e2fa1a146714321b2f3"
     }
    },
    "e8c31b3622284e2fa1a146714321b2f3": {
     "model_module": "@jupyter-widgets/base",
     "model_module_version": "1.2.0",
     "model_name": "LayoutModel",
     "state": {
      "_model_module": "@jupyter-widgets/base",
      "_model_module_version": "1.2.0",
      "_model_name": "LayoutModel",
      "_view_count": null,
      "_view_module": "@jupyter-widgets/base",
      "_view_module_version": "1.2.0",
      "_view_name": "LayoutView",
      "align_content": null,
      "align_items": null,
      "align_self": null,
      "border": null,
      "bottom": null,
      "display": null,
      "flex": null,
      "flex_flow": null,
      "grid_area": null,
      "grid_auto_columns": null,
      "grid_auto_flow": null,
      "grid_auto_rows": null,
      "grid_column": null,
      "grid_gap": null,
      "grid_row": null,
      "grid_template_areas": null,
      "grid_template_columns": null,
      "grid_template_rows": null,
      "height": null,
      "justify_content": null,
      "justify_items": null,
      "left": null,
      "margin": null,
      "max_height": null,
      "max_width": null,
      "min_height": null,
      "min_width": null,
      "object_fit": null,
      "object_position": null,
      "order": null,
      "overflow": null,
      "overflow_x": null,
      "overflow_y": null,
      "padding": null,
      "right": null,
      "top": null,
      "visibility": null,
      "width": null
     }
    },
    "fa3ac15869974b3db2485239612e9a55": {
     "model_module": "@jupyter-widgets/controls",
     "model_module_version": "1.5.0",
     "model_name": "HTMLModel",
     "state": {
      "_dom_classes": [],
      "_model_module": "@jupyter-widgets/controls",
      "_model_module_version": "1.5.0",
      "_model_name": "HTMLModel",
      "_view_count": null,
      "_view_module": "@jupyter-widgets/controls",
      "_view_module_version": "1.5.0",
      "_view_name": "HTMLView",
      "description": "",
      "description_tooltip": null,
      "layout": "IPY_MODEL_240a2851180c468cab17cc15f43791a9",
      "placeholder": "​",
      "style": "IPY_MODEL_caf89f119045469380dba06fc031adb6",
      "value": " 1/258 [00:00&lt;01:30,  2.85 file/s]"
     }
    }
   }
  }
 },
 "nbformat": 4,
 "nbformat_minor": 4
}
