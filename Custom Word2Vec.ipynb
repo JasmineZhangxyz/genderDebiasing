{
 "cells": [
  {
   "cell_type": "markdown",
   "id": "c675ea9e",
   "metadata": {},
   "source": [
    "# Custom Word2Vec Models\n",
    "\n",
    "For Zhao et al.'s and Savani et al.'s debiasing methods, we created our own model and skip-gram traning loops below. "
   ]
  },
  {
   "cell_type": "markdown",
   "id": "b36923fc",
   "metadata": {},
   "source": [
    "### Defining the model \n",
    "\n",
    "2 layers: embedding and linear \n",
    "\n",
    "- **max_norm=1:** prevents embedding layer to grow uncontrollably -regularization \n",
    "- **embedding_dim:** dimension of each embedding vector (eg.300)\n",
    "- **size_vocab:** size of vocabulary"
   ]
  },
  {
   "cell_type": "code",
   "execution_count": null,
   "id": "b87483be",
   "metadata": {},
   "outputs": [],
   "source": [
    "class Word_2_Vec(nn.Module):\n",
    "    \n",
    "    def __init__(self, size_vocab, embedding_dim):\n",
    "        super(Word_2_Vec, self).__init__()\n",
    "        self.network = nn.Sequential (\n",
    "            nn.Embedding(size_vocab,embedding_dim, max_norm=1),\n",
    "            nn.Linear(embedding_dim,size_vocab)\n",
    "        )\n",
    "\n",
    "    def forward(self, x):\n",
    "        return softmax(self.network(x))"
   ]
  },
  {
   "cell_type": "markdown",
   "id": "d6e39c89",
   "metadata": {},
   "source": [
    "### Skip-gram Training \n",
    "\n",
    "(to be done in the future)"
   ]
  }
 ],
 "metadata": {
  "kernelspec": {
   "display_name": "Python 3 (ipykernel)",
   "language": "python",
   "name": "python3"
  },
  "language_info": {
   "codemirror_mode": {
    "name": "ipython",
    "version": 3
   },
   "file_extension": ".py",
   "mimetype": "text/x-python",
   "name": "python",
   "nbconvert_exporter": "python",
   "pygments_lexer": "ipython3",
   "version": "3.8.7"
  }
 },
 "nbformat": 4,
 "nbformat_minor": 5
}
