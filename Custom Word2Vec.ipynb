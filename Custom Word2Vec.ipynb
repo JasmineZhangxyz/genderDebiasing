{
 "cells": [
  {
   "cell_type": "markdown",
   "id": "5c3b6340",
   "metadata": {},
   "source": [
    "# Custom Word2Vec Models\n",
    "\n",
    "For Zhao et al.'s and Savani et al.'s debiasing methods, we created our own model and skip-gram traning loops below. "
   ]
  },
  {
   "cell_type": "code",
   "execution_count": 1,
   "id": "5a17b868",
   "metadata": {},
   "outputs": [
    {
     "name": "stderr",
     "output_type": "stream",
     "text": [
      "/Library/Frameworks/Python.framework/Versions/3.8/lib/python3.8/site-packages/tqdm/auto.py:22: TqdmWarning: IProgress not found. Please update jupyter and ipywidgets. See https://ipywidgets.readthedocs.io/en/stable/user_install.html\n",
      "  from .autonotebook import tqdm as notebook_tqdm\n"
     ]
    }
   ],
   "source": [
    "#imports\n",
    "import torch\n",
    "from torch import nn, optim, sigmoid, softmax\n",
    "from torch.utils.data import DataLoader\n",
    "from torchtext.data.utils import get_tokenizer"
   ]
  },
  {
   "cell_type": "markdown",
   "id": "56f7e85b",
   "metadata": {},
   "source": [
    "### Defining the model \n",
    "\n",
    "2 layers: embedding and linear \n",
    "\n",
    "- **max_norm=1:** prevents embedding layer to grow uncontrollably -regularization \n",
    "- **embedding_dim:** dimension of each embedding vector (eg.300)\n",
    "- **size_vocab:** size of vocabulary"
   ]
  },
  {
   "cell_type": "code",
   "execution_count": 2,
   "id": "ece77481",
   "metadata": {},
   "outputs": [],
   "source": [
    "class Word_2_Vec(nn.Module):\n",
    "    \n",
    "    def __init__(self, size_vocab, embedding_dim):\n",
    "        super(Word_2_Vec, self).__init__()\n",
    "        self.network = nn.Sequential (\n",
    "            nn.Embedding(size_vocab,embedding_dim, max_norm=1),\n",
    "            nn.Linear(embedding_dim,size_vocab)\n",
    "        )\n",
    "\n",
    "    def forward(self, x):\n",
    "        return softmax(self.network(x))"
   ]
  },
  {
   "cell_type": "markdown",
   "id": "e1047c96",
   "metadata": {},
   "source": [
    "### Skip-gram Training \n",
    "\n",
    "(to be done in the future)"
   ]
  }
 ],
 "metadata": {
  "kernelspec": {
   "display_name": "Python 3 (ipykernel)",
   "language": "python",
   "name": "python3"
  },
  "language_info": {
   "codemirror_mode": {
    "name": "ipython",
    "version": 3
   },
   "file_extension": ".py",
   "mimetype": "text/x-python",
   "name": "python",
   "nbconvert_exporter": "python",
   "pygments_lexer": "ipython3",
   "version": "3.8.7"
  }
 },
 "nbformat": 4,
 "nbformat_minor": 5
}
