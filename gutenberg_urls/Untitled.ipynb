{
 "cells": [
  {
   "cell_type": "code",
   "execution_count": 1,
   "id": "11bf481e",
   "metadata": {},
   "outputs": [],
   "source": [
    "import pandas as pd\n",
    "import urllib"
   ]
  },
  {
   "cell_type": "code",
   "execution_count": 7,
   "id": "98602d70",
   "metadata": {},
   "outputs": [],
   "source": [
    "# test\n",
    "test_filepath = \"gutenberg-test-urls.csv\"\n",
    "test_data = pd.read_csv(test_filepath)\n",
    "test_urls = test_data[\"url\"]\n",
    "\n",
    "# train\n",
    "train_filepath = \"gutenberg-train-urls.csv\"\n",
    "train_data = pd.read_csv(train_filepath)\n",
    "train_urls = train_data[\"url\"]\n",
    "\n",
    "# validation\n",
    "valid_filepath = \"gutenberg-validation-urls.csv\"\n",
    "valid_data = pd.read_csv(valid_filepath)\n",
    "valid_urls = valid_data[\"url\"]"
   ]
  },
  {
   "cell_type": "code",
   "execution_count": null,
   "id": "5560cda1",
   "metadata": {},
   "outputs": [],
   "source": [
    "import urllib\n",
    "\n",
    "link = \"http://www.somesite.com/details.pl?urn=2344\"\n",
    "f = urllib.urlopen(link)\n",
    "myfile = f.read()\n",
    "print(myfile)"
   ]
  }
 ],
 "metadata": {
  "kernelspec": {
   "display_name": "Python 3 (ipykernel)",
   "language": "python",
   "name": "python3"
  },
  "language_info": {
   "codemirror_mode": {
    "name": "ipython",
    "version": 3
   },
   "file_extension": ".py",
   "mimetype": "text/x-python",
   "name": "python",
   "nbconvert_exporter": "python",
   "pygments_lexer": "ipython3",
   "version": "3.8.9"
  }
 },
 "nbformat": 4,
 "nbformat_minor": 5
}
