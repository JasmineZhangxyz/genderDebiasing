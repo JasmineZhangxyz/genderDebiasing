{
 "cells": [
  {
   "cell_type": "code",
   "execution_count": 18,
   "id": "11bf481e",
   "metadata": {},
   "outputs": [],
   "source": [
    "import pandas as pd\n",
    "import urllib.request as requests"
   ]
  },
  {
   "cell_type": "code",
   "execution_count": 23,
   "id": "98602d70",
   "metadata": {},
   "outputs": [],
   "source": [
    "def get_urls():\n",
    "    \"\"\"\n",
    "    NOTE: this function will not work if the csv files being used are moved outside of the folder that this file is in!\n",
    "    Output: pds (treated as a list) of urls for test, train, and validation.\n",
    "    \"\"\"\n",
    "    # test\n",
    "    test_filepath = \"gutenberg-test-urls.csv\"\n",
    "    test_data = pd.read_csv(test_filepath)\n",
    "    test_urls = test_data[\"url\"]\n",
    "\n",
    "    # train\n",
    "    train_filepath = \"gutenberg-train-urls.csv\"\n",
    "    train_data = pd.read_csv(train_filepath)\n",
    "    train_urls = train_data[\"url\"]\n",
    "\n",
    "    # validation\n",
    "    valid_filepath = \"gutenberg-validation-urls.csv\"\n",
    "    valid_data = pd.read_csv(valid_filepath)\n",
    "    valid_urls = valid_data[\"url\"]\n",
    "    \n",
    "    #return test_urls, train_urls, valid_urls\n",
    "    return type(test_urls)"
   ]
  },
  {
   "cell_type": "code",
   "execution_count": 24,
   "id": "14ed1a64",
   "metadata": {},
   "outputs": [],
   "source": [
    "def get_data(test_urls, train_urls, valid_urls):\n",
    "    \"\"\"\n",
    "    Input: pd (treated as a list) of urls for test, train, and validation.\n",
    "    Output: 3 lists of (unprocessed) words that appear in test, train, and validation data sets\n",
    "    \"\"\"\n",
    "    def read_urls(urls):\n",
    "        data = []\n",
    "        for link in urls:\n",
    "            temp_data = requests.urlopen(link)\n",
    "            words = temp_data.read()\n",
    "            data.append(words)\n",
    "        return data\n",
    "    \n",
    "    test_data = read_urls(test_urls)\n",
    "    train_data = read_urls(train_urls)\n",
    "    valid_data = read_urls(valid_urls)\n",
    "    \n",
    "    return test_data, train_data, valid_data"
   ]
  }
 ],
 "metadata": {
  "kernelspec": {
   "display_name": "Python 3 (ipykernel)",
   "language": "python",
   "name": "python3"
  },
  "language_info": {
   "codemirror_mode": {
    "name": "ipython",
    "version": 3
   },
   "file_extension": ".py",
   "mimetype": "text/x-python",
   "name": "python",
   "nbconvert_exporter": "python",
   "pygments_lexer": "ipython3",
   "version": "3.8.9"
  }
 },
 "nbformat": 4,
 "nbformat_minor": 5
}
